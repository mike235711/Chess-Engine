{
 "cells": [
  {
   "cell_type": "markdown",
   "id": "e794826a",
   "metadata": {},
   "source": [
    "# The Search Algorithm\n",
    "\n",
    "Here I will create the algorithm that decides which variations to play. I will be using a min max algorithm. This is basically an algorithm that skips variations that can't affect the algorithm.\n",
    "\n",
    "Lets assume we are playing as white. The idea is that in each step (turn for a player) the algorithm will either minimize the eval or maximize it. Variations can be seen as trees (with corresponding roots, nodes and leafs). Suppose we evaluate to depth = n, where it is blacks turn. The algorithm will start by evaluating all the leafs of one of the previous nodes, since it is black's turn we assume black will try to play the best move (minimize evaluation). Therefore from that set of leafs, the only relevant leaf is the one with minimum evaluation. However we will chose the node that has min(set of leafs for node) the maximum from all nodes. This means that when evaluating the leafs of the next node we can stop (and skip to the next set of leafs for another node) whenever we find a leaf whose evaluation is less than the minimum at that point between all the leafs evaluated.\n",
    "\n",
    "We can do this for each level, starting from the leafs of the tree upward toward the root.\n",
    "\n",
    "I will start giving a fen to the algorithm as the input. For finding the variation I will use the Python - Chess Library. \n",
    "\n",
    "THINGS To do:\n",
    "* Make engine think while it ins't its move (using the i's in alpha_beta algorithm) - **Done on algorithm, need to finish on engine.**\n",
    "* Move ordering; consider best moves first. If best moves are considered first the alpha beta algorithm will be much faster (it breaks more times). I start by doing null move pruning.\n",
    "* Use Pypy interpreter instead of CPython, since it is several magnitudes faster (except for numpy, so maybe we should avoid numpy).\n",
    "\n",
    "\n",
    "**I have been using the python-chess library to compute the legal moves every time a move is made, however it is faster to precompute all the possible moves beforehand and store them in a table**"
   ]
  },
  {
   "cell_type": "code",
   "execution_count": 2,
   "id": "7a3bbb53",
   "metadata": {},
   "outputs": [],
   "source": [
    "import numpy as np\n",
    "import chess\n",
    "from functools import partial # To preassign arguments of fucntions, creating a new function"
   ]
  },
  {
   "cell_type": "code",
   "execution_count": 3,
   "id": "179557e9",
   "metadata": {},
   "outputs": [
    {
     "name": "stdout",
     "output_type": "stream",
     "text": [
      "Requirement already satisfied: matplotlib in /Users/miguel/miniconda3/lib/python3.10/site-packages (3.7.1)\n",
      "Requirement already satisfied: fonttools>=4.22.0 in /Users/miguel/miniconda3/lib/python3.10/site-packages (from matplotlib) (4.39.3)\n",
      "Requirement already satisfied: cycler>=0.10 in /Users/miguel/miniconda3/lib/python3.10/site-packages (from matplotlib) (0.11.0)\n",
      "Requirement already satisfied: kiwisolver>=1.0.1 in /Users/miguel/miniconda3/lib/python3.10/site-packages (from matplotlib) (1.4.4)\n",
      "Requirement already satisfied: packaging>=20.0 in /Users/miguel/miniconda3/lib/python3.10/site-packages (from matplotlib) (23.0)\n",
      "Requirement already satisfied: python-dateutil>=2.7 in /Users/miguel/miniconda3/lib/python3.10/site-packages (from matplotlib) (2.8.2)\n",
      "Requirement already satisfied: numpy>=1.20 in /Users/miguel/miniconda3/lib/python3.10/site-packages (from matplotlib) (1.23.5)\n",
      "Requirement already satisfied: pillow>=6.2.0 in /Users/miguel/miniconda3/lib/python3.10/site-packages (from matplotlib) (9.4.0)\n",
      "Requirement already satisfied: pyparsing>=2.3.1 in /Users/miguel/miniconda3/lib/python3.10/site-packages (from matplotlib) (3.0.9)\n",
      "Requirement already satisfied: contourpy>=1.0.1 in /Users/miguel/miniconda3/lib/python3.10/site-packages (from matplotlib) (1.0.7)\n",
      "Requirement already satisfied: six>=1.5 in /Users/miguel/miniconda3/lib/python3.10/site-packages (from python-dateutil>=2.7->matplotlib) (1.16.0)\n",
      "Note: you may need to restart the kernel to use updated packages.\n"
     ]
    }
   ],
   "source": [
    "pip install matplotlib"
   ]
  },
  {
   "cell_type": "code",
   "execution_count": 4,
   "id": "34c2b5a0",
   "metadata": {},
   "outputs": [
    {
     "name": "stdout",
     "output_type": "stream",
     "text": [
      "-4.100799560546875e-05\n",
      "-4.7206878662109375e-05\n",
      "-2.8848648071289062e-05\n",
      "-2.9802322387695312e-05\n",
      "-4.887580871582031e-05\n"
     ]
    }
   ],
   "source": [
    "import time\n",
    "\n",
    "# Test mod 8 methods\n",
    "start_time = time.time()\n",
    "for i in range(64):\n",
    "    i % 8\n",
    "end_time = time.time()\n",
    "print(start_time-end_time)\n",
    "\n",
    "start_time = time.time()\n",
    "for i in range(64):\n",
    "    divmod(i,8)\n",
    "end_time = time.time()\n",
    "print(start_time-end_time)\n",
    "\n",
    "# Test mod 10 methods\n",
    "start_time = time.time()\n",
    "for i in range(64):\n",
    "    i%10\n",
    "end_time = time.time()\n",
    "print(start_time-end_time)\n",
    "\n",
    "start_time = time.time()\n",
    "for i in range(64):\n",
    "    divmod(i,10)\n",
    "end_time = time.time()\n",
    "print(start_time-end_time)\n",
    "\n",
    "start_time = time.time()\n",
    "for i in range(64):\n",
    "    int(str(i)[-1])\n",
    "end_time = time.time()\n",
    "print(start_time-end_time)\n"
   ]
  },
  {
   "cell_type": "markdown",
   "id": "ec132677",
   "metadata": {},
   "source": [
    "The fastest is i%10 however i%8 is also pretty fast, also it depends on the interpreter so it would be reasonable to try this with Pypy too. I will choose i%8, therefore my position will be a list of 64 elements. **Taking 100 has one further advantage, we are creating a 10 by 10 board and when checking if pieces are at the end of the board this is useful**. I will be dividing the board in 4 squares and precomputing the moves on one of the 4 by 4 squares say (a1, a4, d1,d4). And using the symmetries I will be able to precompute all possible moves.\n"
   ]
  },
  {
   "cell_type": "markdown",
   "id": "ec3979f8",
   "metadata": {},
   "source": [
    "# Lists of possible moves for each square\n"
   ]
  },
  {
   "cell_type": "code",
   "execution_count": 295,
   "id": "6643bc0b",
   "metadata": {},
   "outputs": [],
   "source": [
    "N = 8\n",
    "E = 1\n",
    "S = -8\n",
    "W = -1\n",
    "directions_a1 = {#a1\n",
    "    \"P\": {N, N+E, N+N, N+W}, # pawn will be dealt with on class since it depends on other things\n",
    "    \"N\": {N+N+E, N+E+E}, # knight\n",
    "    \"B\": {N+E:7}, #length of movement will be dealt inside class since it depends on other things\n",
    "    \"R\": {N:7, E:7},\n",
    "    \"Q\": {N:7, E:7, N+E:7},\n",
    "    \"K\": {N, E, N+E},}\n",
    "directions_b1 = { #b1\n",
    "    \"P\": {N, N+E, N+N, N+W}, \n",
    "    \"N\": {N+N+E, N+E+E, N+N+W}, \n",
    "    \"B\": {N+E:6, N+W:1},\n",
    "    \"R\": {N:7, E:6, W:1},\n",
    "    \"Q\": {N:7, E:6, N+E:6, N+W:1, W:1},\n",
    "    \"K\": {N, E, N+E, N+W, W},}\n",
    "directions_a2 = { #a2\n",
    "    \"P\": {N, N+E, N+N, N+W}, \n",
    "    \"N\": {N+N+E, N+E+E, S+E+E}, \n",
    "    \"B\": {N+E:6, S+E:1},\n",
    "    \"R\": {N:6, E:7, S:1},\n",
    "    \"Q\": {N:6, E:7, N+E:6, S:1, S+E:1},\n",
    "    \"K\": {N, E, N+E, S, S+E},}\n",
    "directions_c1 = { #c1\n",
    "    \"P\": {N, N+E, N+N, N+W}, \n",
    "    \"N\": {N+N+E, N+E+E, N+N+W, N+W+W}, \n",
    "    \"B\": {N+E:5, N+W:2},\n",
    "    \"R\": {N:7, E:5, W:2},\n",
    "    \"Q\": {N:7, E:5, N+E:5, W:2, N+W:2},\n",
    "    \"K\": {N, E, N+E, W, N+W},}\n",
    "directions_d1 = { #d1\n",
    "    \"P\": {N, N+E, N+N, N+W}, \n",
    "    \"N\": {N+N+E, N+E+E, N+N+W, N+W+W}, \n",
    "    \"B\": {N+E:4, N+W:3},\n",
    "    \"R\": {N:7, E:4, W:3},\n",
    "    \"Q\": {N:7, E:4, N+E:4, W:3, N+W:3},\n",
    "    \"K\": {N, E, N+E, W, N+W},}\n",
    "directions_a3 = { #a3\n",
    "    \"P\": {N, N+E, N+N, N+W},\n",
    "    \"N\": {N+N+E, N+E+E, S+E+E, S+S+E},\n",
    "    \"B\": {N+E:5, S+E:2},\n",
    "    \"R\": {N:5, E:7, S:2},\n",
    "    \"Q\": {N:5, E:7, N+E:5, S:2, S+E:2},\n",
    "    \"K\": {N, E, N+E, S, S+E},}\n",
    "directions_a4 = { #a4 \n",
    "    \"P\": {N, N+E, N+N, N+W},\n",
    "    \"N\": {N+N+E, N+E+E, S+E+E, S+S+E},\n",
    "    \"B\": {N+E:4, S+E:3},\n",
    "    \"R\": {N:4, E:7, S:3},\n",
    "    \"Q\": {N:4, E:7, N+E:4, S:3, S+E:3},\n",
    "    \"K\": {N, E, N+E, S, S+E},}\n",
    "directions_b2 = { #b2\n",
    "    \"P\": {N, N+E, N+N, N+W},\n",
    "    \"N\": {N+N+E, N+N+W, N+E+E, S+E+E},\n",
    "    \"B\": {N+E:6, N+W:1, S+E:1, S+W:1},\n",
    "    \"R\": {N:6, E:6, S:1, W:1},\n",
    "    \"Q\": {N:6, E:6, S:1, W:1, N+E:6, S+E:1, S+W:1, N+W:1},\n",
    "    \"K\": {N, E, S, W, N+E, S+E, S+W, N+W},}\n",
    "directions_b3 = { #b3\n",
    "    \"P\": {N, N+E, N+N, N+W},\n",
    "    \"N\": {N+N+E, N+N+W, N+E+E, S+E+E, S+S+E, S+S+W},\n",
    "    \"B\": {N+E:5, N+W:1, S+E:2, S+W:1},\n",
    "    \"R\": {N:5, E:6, S:2, W:1},\n",
    "    \"Q\": {N:5, E:6, S:2, W:1, N+E:5, S+E:2, S+W:1, N+W:1},\n",
    "    \"K\": {N, E, S, W, N+E, S+E, S+W, N+W},}\n",
    "directions_c2 = { #c2\n",
    "    \"P\": {N, N+E, N+N, N+W},\n",
    "    \"N\": {N+N+E,N+N+W, N+E+E, S+E+E, N+W+W, S+W+W},\n",
    "    \"B\": {N+E:5, N+W:2, S+E:1, S+W:1},\n",
    "    \"R\": {N:6, E:5, S:1, W:2},\n",
    "    \"Q\": {N:6, E:5, S:1, W:2, N+E:5, S+E:1, S+W:1, N+W:2},\n",
    "    \"K\": {N, E, S, W, N+E, S+E, S+W, N+W},}\n",
    "directions_c3 = { #centre squares c3\n",
    "    \"P\": {N, N+E, N+N, N+W},\n",
    "    \"N\": {N+N+E, N+E+E, S+E+E, S+S+E, S+S+W, S+W+W, N+W+W, N+N+W},\n",
    "    \"B\": {N+E:5, N+W:2, S+E:2, S+W:2},\n",
    "    \"R\": {N:5, E:5, S:2, W:2},\n",
    "    \"Q\": {N:5, E:5, S:2, W:2, N+E:5, S+E:2, S+W:2, N+W:2},\n",
    "    \"K\": {N, E, S, W, N+E, S+E, S+W, N+W},}\n",
    "directions_d3 = { #centre squares d3\n",
    "    \"P\": {N, N+E, N+N, N+W},\n",
    "    \"N\": {N+N+E, N+E+E, S+E+E, S+S+E, S+S+W, S+W+W, N+W+W, N+N+W},\n",
    "    \"B\": {N+E:4, N+W:3, S+E:2, S+W:2},\n",
    "    \"R\": {N:5, E:4, S:2, W:3},\n",
    "    \"Q\": {N:5, E:4, S:2, W:3, N+E:4, S+E:2, S+W:2, N+W:3},\n",
    "    \"K\": {N, E, S, W, N+E, S+E, S+W, N+W},}\n",
    "directions_c4 = { #centre squares c4\n",
    "    \"P\": {N, N+E, N+N, N+W},\n",
    "    \"N\": {N+N+E, N+E+E, S+E+E, S+S+E, S+S+W, S+W+W, N+W+W, N+N+W},\n",
    "    \"B\": {N+E:4, N+W:2, S+E:3, S+W:2},\n",
    "    \"R\": {N:4, E:5, S:3, W:2},\n",
    "    \"Q\": {N:4, E:5, S:3, W:2, N+E:4, S+E:3, S+W:2, N+W:2},\n",
    "    \"K\": {N, E, S, W, N+E, S+E, S+W, N+W},}\n",
    "directions_d4 = { #centre squares d4\n",
    "    \"P\": {N, N+E, N+N, N+W}, \n",
    "    \"N\": {N+N+E, N+E+E, S+E+E, S+S+E, S+S+W, S+W+W, N+W+W, N+N+W}, \n",
    "    \"B\": {N+E:4, N+W:3, S+E:3, S+W:3},\n",
    "    \"R\": {N:4, E:4, S:3, W:3},\n",
    "    \"Q\": {N:4, E:4, S:3, W:3, N+E:4, S+E:3, S+W:3, N+W:3},\n",
    "    \"K\": {N, E, S, W, N+E, S+E, S+W, N+W},}\n",
    "directions_b4 = { #b4\n",
    "    \"P\": {N, N+E, N+N, N+W}, \n",
    "    \"N\": {N+N+E, N+E+E, S+E+E, S+S+E, S+S+W, N+N+W}, \n",
    "    \"B\": {N+E:4, N+W:1, S+E:3, S+W:1},\n",
    "    \"R\": {N:4, E:7, S:3, W:1},\n",
    "    \"Q\": {N:4, E:7, S:3, W:1, N+E:4, S+E:3, S+W:1, N+W:1},\n",
    "    \"K\": {N, E, S, W, N+E, S+E, S+W, N+W},}\n",
    "directions_d2 = { #d2\n",
    "    \"P\": {N, N+E, N+N, N+W}, \n",
    "    \"N\": {N+N+E, N+E+E, S+E+E, S+W+W, N+W+W, N+N+W}, \n",
    "    \"B\": {N+E:4, N+W:3, S+E:1, S+W:1},\n",
    "    \"R\": {N:6, E:4, S:1, W:3},\n",
    "    \"Q\": {N:6, E:4, S:1, W:3, N+E:4, S+E:1, S+W:1, N+W:3},\n",
    "    \"K\": {N, E, S, W, N+E, S+E, S+W, N+W},}\n"
   ]
  },
  {
   "cell_type": "code",
   "execution_count": 296,
   "id": "ac4044db",
   "metadata": {},
   "outputs": [
    {
     "data": {
      "text/plain": [
       "{'P': {7, 8, 9, 16},\n",
       " 'N': {10, 15, 17},\n",
       " 'B': {9: 6, 7: 1},\n",
       " 'R': {8: 7, 1: 6, -1: 1},\n",
       " 'Q': {8: 7, 1: 6, 9: 6, 7: 1, -1: 1},\n",
       " 'K': {-1, 1, 7, 8, 9}}"
      ]
     },
     "execution_count": 296,
     "metadata": {},
     "output_type": "execute_result"
    }
   ],
   "source": [
    "DirectionsDict = {0: directions_a1, 1: directions_b1,\n",
    "                  8: directions_a2, 2: directions_c1, 3:directions_d1,\n",
    "                  16: directions_a3, 24: directions_a4, 9: directions_b2,\n",
    "                  17: directions_b3, 25: directions_b4, 10: directions_c2, \n",
    "                  11: directions_d2, 18: directions_c3, 19: directions_d3,\n",
    "                  26: directions_c4, 27: directions_d4}\n",
    "DirectionsDict[1]\n"
   ]
  },
  {
   "cell_type": "code",
   "execution_count": 297,
   "id": "8d88f519",
   "metadata": {},
   "outputs": [
    {
     "name": "stdout",
     "output_type": "stream",
     "text": [
      "Quadrant_h8: ['k', 'n', 'b', 'k', 'q', 'b', 'n', 'r', 'p', 'p', 'p', 'p', 'p', 'p', 'p', 'p', '0', '0', '0', '0', '0', 'm', '2', '0', '0', '0', '0', '0', '0', '0', '0', '0', '0', '0', '0', '0', '0', 'k', '0', '0', '0', '0', '0', '0', '0', '0', '0', '0', 'P', 'P', 'P', 'klk', 'P', 'r', 'P', 'P', 'R', 'N', 'B', 'K', 'Q', 'B', 'N', 'R']\n",
      "Quadrant_a8: ['r', 'n', 'b', 'q', 'k', 'b', 'n', 'k', 'p', 'p', 'p', 'p', 'p', 'p', 'p', 'p', '0', '2', 'm', '0', '0', '0', '0', '0', '0', '0', '0', '0', '0', '0', '0', '0', '0', '0', 'k', '0', '0', '0', '0', '0', '0', '0', '0', '0', '0', '0', '0', '0', 'P', 'P', 'r', 'P', 'klk', 'P', 'P', 'P', 'R', 'N', 'B', 'Q', 'K', 'B', 'N', 'R']\n",
      "Quadrant_h1: ['R', 'N', 'B', 'K', 'Q', 'B', 'N', 'R', 'P', 'P', 'P', 'klk', 'P', 'r', 'P', 'P', '0', '0', '0', '0', '0', '0', '0', '0', '0', '0', '0', '0', '0', 'k', '0', '0', '0', '0', '0', '0', '0', '0', '0', '0', '0', '0', '0', '0', '0', 'm', '2', '0', 'p', 'p', 'p', 'p', 'p', 'p', 'p', 'p', 'k', 'n', 'b', 'k', 'q', 'b', 'n', 'r']\n"
     ]
    }
   ],
   "source": [
    "board = [ 'R', 'N', 'B', 'Q', 'K', 'B', 'N', 'R',          \n",
    "         'P', 'P', 'r', 'P', 'klk', 'P', 'P', 'P',          \n",
    "         '0', '0', '0', '0', '0', '0', '0', '0',          \n",
    "         '0', '0', 'k', '0', '0', '0', '0', '0',       \n",
    "         '0', '0', '0', '0', '0', '0', '0', '0',          \n",
    "         '0', '2', 'm', '0', '0', '0', '0', '0',          \n",
    "         'p', 'p', 'p', 'p', 'p', 'p', 'p', 'p',          \n",
    "         'r', 'n', 'b', 'q', 'k', 'b', 'n', 'k' ]\n",
    "\n",
    "# Quadrant h8\n",
    "flipboard = list(reversed(board)) # Flip the board pieces horizontally\n",
    "flipsquarelist = list(reversed(range(64)))# correct\n",
    "flipsquare = flipsquarelist[3]\n",
    "print('Quadrant_h8:', flipboard) # Este esta hecho para h8\n",
    "\n",
    "\n",
    "# Quadrant a8\n",
    "flipboard = [square for row in [board[i:i+8] for i in range(0, 64, 8)][::-1] for square in row]\n",
    "flipsquarelist = [square for row in [list(range(64))[::-1][i:i+8][::-1] for i in range(0, 64, 8)] for square in row]\n",
    "flipsquare = flipsquarelist[3]\n",
    "print('Quadrant_a8:', flipboard)\n",
    "\n",
    "# Quadrant h1\n",
    "flipboard = [square for row in [board[i:i+8][::-1] for i in range(0, 64, 8)] for square in row] \n",
    "flipsquarelist = [square for row in [list(range(64))[i:i+8][::-1] for i in range(0, 64, 8)] for square in row]\n",
    "flipsquare = flipsquarelist[3]\n",
    "print('Quadrant_h1:', flipboard) # Este esta hecho para h1\n"
   ]
  },
  {
   "cell_type": "code",
   "execution_count": 298,
   "id": "dd733f90",
   "metadata": {},
   "outputs": [],
   "source": [
    "def pretty_print(board):\n",
    "    # Create a list of rank labels (1 to 8) and file labels (a to h)\n",
    "    ranks = [str(i) for i in range(8, 0, -1)]\n",
    "    files = ['a', 'b', 'c', 'd', 'e', 'f', 'g', 'h']\n",
    "\n",
    "\n",
    "    # Print each rank of the board\n",
    "    for i in range(8):\n",
    "        rank = ''.join(str(board[(8-i-1) * 8 + j]) for j in range(8))\n",
    "        rank = rank.replace('0', '.')\n",
    "        rank = rank.replace('K', '♔')\n",
    "        rank = rank.replace('Q', '♕')\n",
    "        rank = rank.replace('R', '♖')\n",
    "        rank = rank.replace('B', '♗')\n",
    "        rank = rank.replace('N', '♘')\n",
    "        rank = rank.replace('P', '♙')\n",
    "        rank = rank.replace('k', '♚')\n",
    "        rank = rank.replace('q', '♛')\n",
    "        rank = rank.replace('r', '♜')\n",
    "        rank = rank.replace('b', '♝')\n",
    "        rank = rank.replace('n', '♞')\n",
    "        rank = rank.replace('p', '♟')\n",
    "        print(rank )\n",
    "\n",
    "    "
   ]
  },
  {
   "cell_type": "code",
   "execution_count": 736,
   "id": "b916bad1",
   "metadata": {},
   "outputs": [],
   "source": [
    "#Position Class\n",
    "from collections import namedtuple\n",
    "from collections import Counter\n",
    "\n",
    "Move = namedtuple(\"Move\", \"i j prom score\") # The Move class is a named tuple that stores information about a\n",
    "                                      # move in the chess game. It has three fields: i and j, which are \n",
    "                                      # the starting and ending positions of the piece being moved, respectively, \n",
    "                                      # and prom, which is the promotion piece if the move is a pawn promotion.\n",
    "                                      # and score +2 captures\n",
    "                                                # +1 checks\n",
    "import copy\n",
    "\n",
    "class Position:\n",
    "    def __init__(self, board, psquare, wc, bc, history, turn): # When creating a Position we will have to specify these variables\n",
    "        self.board = board # an array of length 64\n",
    "        self.psquare = psquare # An integer representing the square that can be captured using en passant.\n",
    "                               # It will be -1 if the last move wasn't a double pawn move.\n",
    "                               # I will change the passant variable every time a double pawn move is made in \n",
    "                               # the move method.\n",
    "        self.wc = wc\n",
    "        self.bc = bc # The castling rights, these will be lists of two Boolean variables. The first element \n",
    "                     # of the list represents kingside castle, the second queenside castle. They only check \n",
    "                     # if the king or rook has already moved (to check if there are in between checks we do\n",
    "                     # it in gen_moves method).\n",
    "        self.history = [''.join(self.board)]\n",
    "        self.turn = turn # True if white, False if black \n",
    "    def checks_pins(self):\n",
    "        checks = [0]\n",
    "        pins = {}\n",
    "        for square, piece in enumerate(self.board):\n",
    "            if piece not in 'prqnb': # We check for all opponents pieces that can give checks (not kings)\n",
    "                continue \n",
    "            downwards = False\n",
    "            flipsquare = square # flipsquare is the corresponding square in the first quarterboard\n",
    "            flipsquarelist = list(range(64))\n",
    "            flipboard = self.board\n",
    "            if any(square in range(start, start+4) for start in [4, 12, 20, 28]): \n",
    "                # h1 quadrant\n",
    "                flipboard = [square for row in [self.board[i:i+8][::-1] for i in range(0, 64, 8)] for square in row] \n",
    "                flipsquarelist = [square for row in [list(range(64))[i:i+8][::-1] for i in range(0, 64, 8)] for square in row]\n",
    "                flipsquare = flipsquarelist[square]                 \n",
    "            elif any(square in range(start, start+4) for start in [36, 44, 52, 60]): # h8 quadrant\n",
    "                # Quadrant h8\n",
    "                downwards = True\n",
    "                flipboard = list(reversed(self.board)) # Flip the board pieces horizontally\n",
    "                flipsquarelist = list(reversed(range(64)))# correct\n",
    "                flipsquare = flipsquarelist[square]\n",
    "            elif any(square in range(start, start+4) for start in [32, 40, 48, 56]): # a8 quadrant\n",
    "                # Quadrant a8\n",
    "                downwards = True\n",
    "                flipboard = [square for row in [self.board[i:i+8] for i in range(0, 64, 8)][::-1] for square in row]\n",
    "                flipsquarelist = [square for row in [list(range(64))[::-1][i:i+8][::-1] for i in range(0, 64, 8)] for square in row]\n",
    "                flipsquare = flipsquarelist[square]\n",
    "            if piece in 'rqb': # Opponents sliders\n",
    "                for d in DirectionsDict[flipsquare][piece.upper()].keys():\n",
    "                    squareslist = [square]\n",
    "                    count = 0\n",
    "                    outer_break = False\n",
    "                    for k in range(DirectionsDict[flipsquare][piece.upper()][d]):\n",
    "                        jflip = flipsquare+(k+1)*d\n",
    "                        j = flipsquarelist[jflip]\n",
    "                        q = flipboard[jflip] # What is on destination square\n",
    "                        if q.islower(): # Own piece is blocking\n",
    "                            break\n",
    "                        if q.isupper() and q!= 'K':\n",
    "                            count += 1\n",
    "                            pinned_square = j\n",
    "                        if count >=2:\n",
    "                            break\n",
    "                        if q == 'K':\n",
    "                            outer_break = True # No need to check for other directions\n",
    "                            if count == 0:\n",
    "                                checks[0]+=1\n",
    "                                checks.append(squareslist)\n",
    "                            else:\n",
    "                                pins[pinned_square]=squareslist\n",
    "                            break\n",
    "                        squareslist.append(j)\n",
    "                    if outer_break:\n",
    "                        break             \n",
    "            else: #Opponents Crawlers\n",
    "                for d in DirectionsDict[flipsquare][piece.upper()]:\n",
    "                    if piece == 'p' and (d==N or d==N+N):\n",
    "                        continue\n",
    "                    if piece == 'p' and not downwards:\n",
    "                        if d == 7:\n",
    "                            d = -9\n",
    "                        if d == 9:\n",
    "                            d = -7\n",
    "                    jflip = flipsquare + d\n",
    "                    j = flipsquarelist[jflip]\n",
    "                    q = self.board[j] # What is on destination square\n",
    "                    if q == 'K':\n",
    "                        checks[0]+=1\n",
    "                        checks.append([square])\n",
    "        return [checks, pins]\n",
    "    def own_attacked_squares(self): # Getting the squares where our pieces are being attacked\n",
    "        attacked_squares = []\n",
    "        for square, piece in enumerate(self.board):\n",
    "            if piece not in 'prqnbk': # We check for all opponents pieces \n",
    "                continue \n",
    "            downwards = False\n",
    "            flipsquare = square # flipsquare is the corresponding square in the first quarterboard\n",
    "            flipsquarelist = list(range(64))\n",
    "            flipboard = self.board\n",
    "            if any(square in range(start, start+4) for start in [4, 12, 20, 28]): \n",
    "                # h1 quadrant\n",
    "                flipboard = [square for row in [self.board[i:i+8][::-1] for i in range(0, 64, 8)] for square in row] \n",
    "                flipsquarelist = [square for row in [list(range(64))[i:i+8][::-1] for i in range(0, 64, 8)] for square in row]\n",
    "                flipsquare = flipsquarelist[square]                 \n",
    "            elif any(square in range(start, start+4) for start in [36, 44, 52, 60]): # h8 quadrant\n",
    "                # Quadrant h8\n",
    "                downwards = True\n",
    "                flipboard = list(reversed(self.board)) # Flip the board pieces horizontally\n",
    "                flipsquarelist = list(reversed(range(64)))# correct\n",
    "                flipsquare = flipsquarelist[square]\n",
    "            elif any(square in range(start, start+4) for start in [32, 40, 48, 56]): # a8 quadrant\n",
    "                # Quadrant a8\n",
    "                downwards = True\n",
    "                flipboard = [square for row in [self.board[i:i+8] for i in range(0, 64, 8)][::-1] for square in row]\n",
    "                flipsquarelist = [square for row in [list(range(64))[::-1][i:i+8][::-1] for i in range(0, 64, 8)] for square in row]\n",
    "                flipsquare = flipsquarelist[square]\n",
    "            if piece in 'rqb': # Opponents sliders\n",
    "                for d in DirectionsDict[flipsquare][piece.upper()].keys():\n",
    "                    for k in range(DirectionsDict[flipsquare][piece.upper()][d]):\n",
    "                        jflip = flipsquare+(k+1)*d\n",
    "                        j = flipsquarelist[jflip]\n",
    "                        q = flipboard[jflip] # What is on destination square\n",
    "                        if q.islower(): # Own piece is blocking\n",
    "                            break\n",
    "                        if q.isupper() and q!= 'P':\n",
    "                            attacked_squares.append(j)          \n",
    "            else: #Opponents Crawlers\n",
    "                for d in DirectionsDict[flipsquare][piece.upper()]:\n",
    "                    d1 = d\n",
    "                    if piece == 'p' and not downwards:\n",
    "                        if d == 7:\n",
    "                            d1 = -9\n",
    "                        if d == 9:\n",
    "                            d1 = -7\n",
    "                        if d == 8:\n",
    "                            continue\n",
    "                    jflip = flipsquare + d1\n",
    "                    j = flipsquarelist[jflip]\n",
    "                    q = self.board[j] # What is on destination square\n",
    "                    if q.isupper() and q!='P':\n",
    "                        attacked_squares.append(j)\n",
    "        return attacked_squares\n",
    "    \n",
    "    def out_of_attack_moves(self):\n",
    "        score =0\n",
    "        checks_pins = self.checks_pins()\n",
    "        checks = checks_pins[0]\n",
    "        pins = checks_pins[1]\n",
    "        for square, piece in enumerate(self.board):\n",
    "            attacked_squares = self.own_attacked_squares()\n",
    "            # MAYBE INSTEAD OF CREATING FLIPBOARD AND FLIPSQUARE WE CAN CREATE A FOR LOOP, RUNNING THROUGH\n",
    "            # THE DIRECTIONS ON EACH OF THE 4 BY 4 QUARTERBOARDS, I WILL CHECK WHEN FINISHED IF THIS IS MORE\n",
    "            # EFFICIENT(MAYBE BECAUSE LESS MEMORY USAGE?).\n",
    "            if not piece.isupper(): # We only check for white pieces(rotation will allow then to check for black)\n",
    "                continue\n",
    "            if square not in attacked_squares and checks[0]==0:\n",
    "                continue\n",
    "            downwards = False\n",
    "            flipsquare = square # flipsquare is the corresponding square in the first quarterboard\n",
    "            flipsquarelist = list(range(64))\n",
    "            flipboard = self.board\n",
    "            if any(square in range(start, start+4) for start in [4, 12, 20, 28]): \n",
    "                # h1 quadrant\n",
    "                flipboard = [square for row in [self.board[i:i+8][::-1] for i in range(0, 64, 8)] for square in row] \n",
    "                flipsquarelist = [square for row in [list(range(64))[i:i+8][::-1] for i in range(0, 64, 8)] for square in row]\n",
    "                flipsquare = flipsquarelist[square]                 \n",
    "            elif any(square in range(start, start+4) for start in [36, 44, 52, 60]): # h8 quadrant\n",
    "                # Quadrant h8\n",
    "                downwards = True\n",
    "                flipboard = list(reversed(self.board)) # Flip the board pieces horizontally\n",
    "                flipsquarelist = list(reversed(range(64)))# correct\n",
    "                flipsquare = flipsquarelist[square]\n",
    "            elif any(square in range(start, start+4) for start in [32, 40, 48, 56]): # a8 quadrant\n",
    "                # Quadrant a8\n",
    "                downwards = True\n",
    "                flipboard = [square for row in [self.board[i:i+8] for i in range(0, 64, 8)][::-1] for square in row]\n",
    "                flipsquarelist = [square for row in [list(range(64))[::-1][i:i+8][::-1] for i in range(0, 64, 8)] for square in row]\n",
    "                flipsquare = flipsquarelist[square]\n",
    "            if piece in 'RQB' and checks[0]==0: # Sliders without checks\n",
    "                for d in DirectionsDict[flipsquare][piece].keys():\n",
    "                    for k in range(DirectionsDict[flipsquare][piece][d]):\n",
    "                        jflip = flipsquare+(k+1)*d\n",
    "                        j = flipsquarelist[jflip]\n",
    "                        if square in pins.keys(): # If piece is pinned we can only move through pin\n",
    "                            if j not in pins[square]:\n",
    "                                break\n",
    "                        q = flipboard[jflip] # What is on destination square\n",
    "                        # Castling, by sliding the rook next to the king \n",
    "                        if q.isupper():\n",
    "                            break # we cant move if our own piece is blocking\n",
    "                        yield Move(square, j, \"\", score)\n",
    "                        # Captures prevent more moves in that direction\n",
    "                        if q.islower(): # Capture prevent more moves in that direction\n",
    "                            break \n",
    "            elif piece in 'NK' and checks[0]==0: # Crawlers without checks\n",
    "                for d in DirectionsDict[flipsquare][piece]:\n",
    "                    jflip = flipsquare + d\n",
    "                    j = flipsquarelist[jflip]\n",
    "                    if square in pins.keys(): # If piece is pinned we can only move through pin\n",
    "                        if j not in pins[square]:\n",
    "                            continue\n",
    "                    if piece == 'K': # Making sure we dont move the king in check\n",
    "                        if self.null_move(Move(square, j, '', score)).rotate().checks_pins()[0][0] != 0:\n",
    "                            continue\n",
    "                    q = self.board[j] # What is on destination square\n",
    "                    if q.isupper():\n",
    "                        continue # we cant move if our own piece is blocking\n",
    "                    yield Move(square, j, \"\", score)\n",
    "                        \n",
    "            elif piece in 'QRB' and checks[0] == 1: # In 1 check, Sliders can be captured, blocked or move king\n",
    "                if square in pins.keys(): # If check, pinned pieces cant move\n",
    "                    continue\n",
    "                for d in DirectionsDict[flipsquare][piece].keys():\n",
    "                    for k in range(DirectionsDict[flipsquare][piece][d]):\n",
    "                        jflip = flipsquare+(k+1)*d\n",
    "                        j = flipsquarelist[jflip]\n",
    "                        q = flipboard[jflip] # What is on destination square\n",
    "                        if q.isupper(): # we cant move more in that direction\n",
    "                            break\n",
    "                        if j not in checks[1]:\n",
    "                            continue # We don't interfere with check\n",
    "                        yield Move(square, j, '', score)\n",
    "            elif piece in 'NPK' and checks[0] == 1: # In 1 check, Only capture or move king\n",
    "                if square in pins.keys(): # If check, pinned pieces cant move\n",
    "                    continue\n",
    "                for d in DirectionsDict[flipsquare][piece]:\n",
    "                    if piece == 'P' and downwards:\n",
    "                        if d == 7:\n",
    "                            d = -9\n",
    "                        if d == 9:\n",
    "                            d = -7\n",
    "                        if d == 8:\n",
    "                            d = -8\n",
    "                    jflip = flipsquare + d\n",
    "                    j = flipsquarelist[jflip]\n",
    "                    if j not in checks[1] and piece != 'K':\n",
    "                        continue\n",
    "                    if piece == 'K': # Making sure we dont move the king in check\n",
    "                        if self.null_move(Move(square, j, '', score)).rotate().checks_pins()[0][0] != 0:\n",
    "                            continue\n",
    "                    q = self.board[j] # What is on destination square\n",
    "                    if q.isupper():\n",
    "                        continue\n",
    "                    if piece == \"P\": # Pawn move, double move and capture\n",
    "                        if d in (N, N+N) and q != \"0\": # can't move\n",
    "                            continue \n",
    "                        if d in (N+N,-N-N) and (square > 15 or flipboard[flipsquare + N] != \"0\"): # can't move twice\n",
    "                            continue\n",
    "                        if (d in (N+W, N+E, -N-W, -N-E) and (q == \"0\" and self.psquare != j)): \n",
    "                            continue # Can't capture or en passant \n",
    "                        if 56 <= j: # If we move to the last row, we can promote\n",
    "                            for prom in \"NBRQ\":\n",
    "                                yield Move(square, j, prom, score)\n",
    "                                continue\n",
    "                    yield Move(square,j, '', score)\n",
    "            else: # There are multiple checks so we may only move king\n",
    "                if piece != 'K':\n",
    "                    continue\n",
    "                for d in DirectionsDict[flipsquare]['K']:\n",
    "                    jflip = flipsquare + d\n",
    "                    j = flipsquarelist[jflip]\n",
    "                    if piece == 'K': # Making sure we dont move the king in check\n",
    "                        if self.null_move(Move(square, j, '', score)).rotate().checks_pins()[0][0] != 0:\n",
    "                            continue\n",
    "                    q = self.board[j]\n",
    "                    if q.isupper():\n",
    "                        continue\n",
    "                    yield Move(square, j, '', score)\n",
    "    \n",
    "    def gen_moves(self):\n",
    "        # The gen_moves method generates all legal moves for the current position, and returns \n",
    "        # a generator that yields Move objects. It iterates through each of the player's pieces \n",
    "        # on the board and, for each piece, iterates through each possible 'ray' of moves, as \n",
    "        # defined in the directions map. The rays are broken by captures or immediately in the \n",
    "        # case of crawlers such as knights.\n",
    "        checks_pins = self.checks_pins()\n",
    "        checks = checks_pins[0]\n",
    "        pins = checks_pins[1]\n",
    "        for square, piece in enumerate(self.board):\n",
    "            # MAYBE INSTEAD OF CREATING FLIPBOARD AND FLIPSQUARE WE CAN CREATE A FOR LOOP, RUNNING THROUGH\n",
    "            # THE DIRECTIONS ON EACH OF THE 4 BY 4 QUARTERBOARDS, I WILL CHECK WHEN FINISHED IF THIS IS MORE\n",
    "            # EFFICIENT(MAYBE BECAUSE LESS MEMORY USAGE?).\n",
    "            if not piece.isupper(): # We only check for white pieces(rotation will allow then to check for black)\n",
    "                continue\n",
    "            downwards = False\n",
    "            flipsquare = square # flipsquare is the corresponding square in the first quarterboard\n",
    "            flipsquarelist = list(range(64))\n",
    "            flipboard = self.board\n",
    "            if any(square in range(start, start+4) for start in [4, 12, 20, 28]): \n",
    "                # h1 quadrant\n",
    "                flipboard = [square for row in [self.board[i:i+8][::-1] for i in range(0, 64, 8)] for square in row] \n",
    "                flipsquarelist = [square for row in [list(range(64))[i:i+8][::-1] for i in range(0, 64, 8)] for square in row]\n",
    "                flipsquare = flipsquarelist[square]                 \n",
    "            elif any(square in range(start, start+4) for start in [36, 44, 52, 60]): # h8 quadrant\n",
    "                # Quadrant h8\n",
    "                downwards = True\n",
    "                flipboard = list(reversed(self.board)) # Flip the board pieces horizontally\n",
    "                flipsquarelist = list(reversed(range(64)))# correct\n",
    "                flipsquare = flipsquarelist[square]\n",
    "            elif any(square in range(start, start+4) for start in [32, 40, 48, 56]): # a8 quadrant\n",
    "                # Quadrant a8\n",
    "                downwards = True\n",
    "                flipboard = [square for row in [self.board[i:i+8] for i in range(0, 64, 8)][::-1] for square in row]\n",
    "                flipsquarelist = [square for row in [list(range(64))[::-1][i:i+8][::-1] for i in range(0, 64, 8)] for square in row]\n",
    "                flipsquare = flipsquarelist[square]\n",
    "            if piece in 'RQB' and checks[0]==0: # Sliders without checks\n",
    "                for d in DirectionsDict[flipsquare][piece].keys():\n",
    "                    for k in range(DirectionsDict[flipsquare][piece][d]):\n",
    "                        score = 0\n",
    "                        jflip = flipsquare+(k+1)*d\n",
    "                        j = flipsquarelist[jflip]\n",
    "                        if square in pins.keys(): # If piece is pinned we can only move through pin\n",
    "                            if j not in pins[square]:\n",
    "                                break\n",
    "                        q = flipboard[jflip] # What is on destination square\n",
    "                        if q.islower():\n",
    "                            score += 1 # capture gets a score\n",
    "                            if q != 'p':\n",
    "                                score +=1\n",
    "                        if self.null_move(Move(square, j, '',0)).checks_pins()[0][0]!=0:\n",
    "                            score +=3 # Checks get a score\n",
    "                        \n",
    "                        # Castling, by sliding the rook next to the king \n",
    "                        if square == 0 and self.wc[1] and q=='K':\n",
    "                            position2 = self\n",
    "                            if self.null_move(Move(j+E, j, '', 0)).rotate().checks_pins()[0][0]!=0 or position2.null_move(Move(j+E, j+W, '', 0)).rotate().checks_pins()[0][0]!=0:\n",
    "                                break\n",
    "                            yield Move(j + E, j + W, \"\", score) # castling is represented by the king move (makes \n",
    "                                                 # move method easier)\n",
    "                            break\n",
    "                        if square == 7 and self.wc[0] and q=='K':\n",
    "                            position2 = self\n",
    "                            if self.null_move(Move(j+W, j, '', 0)).rotate().checks_pins()[0][0]!=0 or position2.null_move(Move(j+W, j+E, '', 0)).rotate().checks_pins()[0][0]!=0:\n",
    "                                break\n",
    "                            yield Move(j + W, j + E, \"\", score)\n",
    "                            break\n",
    "                        if q.isupper():\n",
    "                            break # we cant move if our own piece is blocking\n",
    "                        yield Move(square, j, \"\", score)\n",
    "                        # Captures prevent more moves in that direction\n",
    "                        if q.islower(): # Capture prevent more moves in that direction\n",
    "                            break\n",
    "            elif piece in 'NKP' and checks[0]==0: # Crawlers without checks\n",
    "                for d in DirectionsDict[flipsquare][piece]:\n",
    "                    score = 0\n",
    "                    if piece == 'P' and downwards:\n",
    "                        if d == 7:\n",
    "                            d = -9\n",
    "                        if d == 9:\n",
    "                            d = -7\n",
    "                        if d == 8:\n",
    "                            d = -8\n",
    "                    jflip = flipsquare + d\n",
    "                    j = flipsquarelist[jflip]\n",
    "                    if square in pins.keys(): # If piece is pinned we can only move through pin\n",
    "                        if j not in pins[square]:\n",
    "                            continue\n",
    "                    if piece == 'K': # Making sure we dont move the king in check\n",
    "                        if self.null_move(Move(square, j, '', score)).rotate().checks_pins()[0][0] != 0:\n",
    "                            continue\n",
    "                    q = self.board[j] # What is on destination square\n",
    "                    if q.isupper():\n",
    "                        continue # we cant move if our own piece is blocking\n",
    "                    if piece == \"P\": # Pawn move, double move and capture\n",
    "                        if d in (N, N+N,-N,-N-N) and q != \"0\": # can't move\n",
    "                            continue \n",
    "                        if d in (N+N,-N-N) and (square > 15 or flipboard[flipsquare + N] != \"0\"): # can't move twice\n",
    "                            continue\n",
    "                        if (d in (7, -7, 9, -9) and (q == \"0\" and self.psquare != j)): \n",
    "                            continue # Can't capture or en passant \n",
    "                        if 56 <= j: # If we move to the last row, we can promote\n",
    "                            for prom in \"NBRQ\":\n",
    "                                yield Move(square, j, prom, score)\n",
    "                            continue\n",
    "                        if self.psquare ==j and d in (N+W, N+E,-N-W,-N-E):# Sometimes we cant enpassant because otherwise we are in check, however the pawn is not pinned\n",
    "                            if self.null_move(Move(square, j, '', 0)).rotate().checks_pins()[0][0]!=0:\n",
    "                                continue\n",
    "                    \n",
    "                    if q.islower() or j==self.psquare:\n",
    "                        score += 1\n",
    "                        if q != 'p':\n",
    "                            score += 1 \n",
    "                    \n",
    "                    if self.null_move(Move(square, j, '',0)).checks_pins()[0][0]!=0:\n",
    "                        score +=3 # Checks get a score\n",
    "                    yield Move(square, j, \"\", score)\n",
    "                    \n",
    "            elif piece in 'QRB' and checks[0] == 1: # In 1 check, Sliders can be captured, blocked or move king\n",
    "                if square in pins.keys(): # If check, pinned pieces cant move\n",
    "                    continue\n",
    "                for d in DirectionsDict[flipsquare][piece].keys():\n",
    "                    for k in range(DirectionsDict[flipsquare][piece][d]):\n",
    "                        score = 0\n",
    "                        jflip = flipsquare+(k+1)*d\n",
    "                        j = flipsquarelist[jflip]\n",
    "                        q = flipboard[jflip] # What is on destination square\n",
    "                        if q.isupper(): # we cant move more in that direction\n",
    "                            break\n",
    "                        if j not in checks[1]:\n",
    "                            continue # We don't interfere with check\n",
    "                        if q.islower():\n",
    "                            score += 1\n",
    "                            if q != 'p':\n",
    "                                score += 1\n",
    "                        yield Move(square, j, '', score)\n",
    "            elif piece in 'NPK' and checks[0] == 1: # In 1 check, Only capture or move king\n",
    "                if square in pins.keys(): # If check, pinned pieces cant move\n",
    "                    continue\n",
    "                for d in DirectionsDict[flipsquare][piece]:\n",
    "                    score = 0\n",
    "                    if piece == 'P' and downwards:\n",
    "                        if d == 7:\n",
    "                            d = -9\n",
    "                        if d == 9:\n",
    "                            d = -7\n",
    "                        if d == 8:\n",
    "                            d = -8\n",
    "                    jflip = flipsquare + d\n",
    "                    j = flipsquarelist[jflip]\n",
    "                    if j not in checks[1] and piece != 'K' and piece != 'P':\n",
    "                        continue # King can move out of check and en passant can capture pawn giving check without moving to pawns square\n",
    "                    if piece == 'P' and j not in checks[1] and j !=self.psquare:\n",
    "                        continue # unless en passant, if we cant capture piece directly or block we cant move pawn\n",
    "                    if piece =='P' and j==self.psquare:\n",
    "                        if self.null_move(Move(square, j, '', score)).rotate().checks_pins()[0][0] != 0:\n",
    "                            print('MAL')\n",
    "                            continue # If we capture en passant we see if we are in check after capturing\n",
    "                    if piece == 'K': # Making sure we dont move the king in check\n",
    "                        if self.null_move(Move(square, j, '', score)).rotate().checks_pins()[0][0] != 0:\n",
    "                            continue\n",
    "                    q = self.board[j] # What is on destination square\n",
    "                    if q.isupper():\n",
    "                        continue\n",
    "                    if q.islower():\n",
    "                        score += 1\n",
    "                        if q != 'p':\n",
    "                            score += 1\n",
    "                    if piece == \"P\": # Pawn move, double move and capture\n",
    "                        if d in (N, N+N) and q != \"0\": # can't move\n",
    "                            continue \n",
    "                        if d in (N+N,-N-N) and (square > 15 or flipboard[flipsquare + N] != \"0\"): # can't move twice\n",
    "                            continue\n",
    "                        if (d in (N+W, N+E, -N-W, -N-E) and (q == \"0\" and self.psquare != j)):\n",
    "                            continue # Can't capture or en passant \n",
    "                        if 56 <= j: # If we move to the last row, we can promote\n",
    "                            for prom in \"NBRQ\":\n",
    "                                yield Move(square, j, prom, score)\n",
    "                            continue\n",
    "                    yield Move(square,j, '', score)\n",
    "            else: # There are multiple checks so we may only move king\n",
    "                if piece != 'K':\n",
    "                    continue\n",
    "                for d in DirectionsDict[flipsquare]['K']:\n",
    "                    score = 0\n",
    "                    jflip = flipsquare + d\n",
    "                    j = flipsquarelist[jflip]\n",
    "                    if piece == 'K': # Making sure we dont move the king in check\n",
    "                        if self.null_move(Move(square, j, '', score)).rotate().checks_pins()[0][0] != 0:\n",
    "                            continue\n",
    "                    q = self.board[j]\n",
    "                    if q.isupper():\n",
    "                        continue\n",
    "                    if q.islower():\n",
    "                        score += 1\n",
    "                        if q != 'p':\n",
    "                            score += 1\n",
    "                    yield Move(square, j, '', score)\n",
    "    def own_quiet(self): \n",
    "        checks_pins = self.checks_pins()\n",
    "        checks = checks_pins[0]\n",
    "        pins = checks_pins[1]\n",
    "        if checks[0]!= 0: # If there is a check, position isn't quiet\n",
    "            return False\n",
    "        for square, piece in enumerate(self.board):\n",
    "            if not piece.isupper(): # We only check for our own pieces\n",
    "                continue\n",
    "            downwards = False\n",
    "            flipsquare = square # flipsquare is the corresponding square in the first quarterboard\n",
    "            flipsquarelist = list(range(64))\n",
    "            flipboard = self.board\n",
    "            if any(square in range(start, start+4) for start in [4, 12, 20, 28]): \n",
    "                # Quadrant h1\n",
    "                flipboard = [square for row in [self.board[i:i+8][::-1] for i in range(0, 64, 8)] for square in row] \n",
    "                flipsquarelist = [square for row in [list(range(64))[i:i+8][::-1] for i in range(0, 64, 8)] for square in row]\n",
    "                flipsquare = flipsquarelist[square]                 \n",
    "            elif any(square in range(start, start+4) for start in [36, 44, 52, 60]):\n",
    "                # Quadrant h8\n",
    "                downwards = True\n",
    "                flipboard = list(reversed(self.board)) # Flip the board pieces horizontally\n",
    "                flipsquarelist = list(reversed(range(64)))# correct\n",
    "                flipsquare = flipsquarelist[square]\n",
    "            elif any(square in range(start, start+4) for start in [32, 40, 48, 56]):\n",
    "                # Quadrant a8\n",
    "                downwards = True\n",
    "                flipboard = [square for row in [self.board[i:i+8] for i in range(0, 64, 8)][::-1] for square in row]\n",
    "                flipsquarelist = [square for row in [list(range(64))[::-1][i:i+8][::-1] for i in range(0, 64, 8)] for square in row]\n",
    "                flipsquare = flipsquarelist[square]\n",
    "            if piece in 'RQB': # Our sliders\n",
    "                for d in DirectionsDict[flipsquare][piece].keys():\n",
    "                    for k in range(DirectionsDict[flipsquare][piece][d]):\n",
    "                        jflip = flipsquare+(k+1)*d\n",
    "                        j = flipsquarelist[jflip]\n",
    "                        if square in pins.keys(): # If piece is pinned we can only move through pin\n",
    "                            if j not in pins[square]:\n",
    "                                break\n",
    "                        q = flipboard[jflip] # What is on destination square\n",
    "                        if q.isupper(): # We cant move more in that direction\n",
    "                            break\n",
    "                        if q.islower() and q!='p': # we can capture a piece\n",
    "                            return False\n",
    "                        if q=='p':\n",
    "                            break\n",
    "                        \n",
    "            if piece in 'KNP': # Our crawlers\n",
    "                for d in DirectionsDict[flipsquare][piece]:\n",
    "                    if piece == 'P' and (d == N or d == N+N):\n",
    "                        continue # We cant capture with pawns moving upwards\n",
    "                    d1 = d\n",
    "                    if piece == 'P' and downwards:\n",
    "                        if d == 7:\n",
    "                            d1 = -9\n",
    "                        if d == 9:\n",
    "                            d1 = -7\n",
    "                    jflip = flipsquare + d1\n",
    "                    j = flipsquarelist[jflip]\n",
    "                    if square in pins.keys(): # If piece is pinned we can only move through pin\n",
    "                            if j not in pins[square]:\n",
    "                                break\n",
    "                    q = flipboard[jflip] \n",
    "                    if q.islower() and q!='p':\n",
    "                        return False\n",
    "        return True\n",
    "                    \n",
    "    def rotate(self): \n",
    "        # Switch the roles of black and white. It also swaps the case of all the pieces and preserves \n",
    "        # en passant unless it is a null move. White's castling rights become black's and viceversa.\n",
    "        return Position([x.swapcase() for x in self.board[::-1]], self.psquare, self.bc, self.wc, self.history, self.turn)\n",
    "    \n",
    "    def null_move(self, move): \n",
    "        # Null move doesnt change actual position, it only creates a new position, where the only\n",
    "       # thing changing is the board, it makes a move and changes players perspective \n",
    "        position_copy = copy.deepcopy(self)\n",
    "        i, j, prom, capt = move # prom is the letter representing the piece we are promoting to \n",
    "        piece, q, board = position_copy.board[i], position_copy.board[j], position_copy.board # piece and destination piece/space\n",
    "        wc, bc = position_copy.wc, position_copy.bc\n",
    "        put = lambda board, i, p: board[:i] + [p] + board[i+1:]\n",
    "        newpsquare, newwc, newbc = -1, position_copy.wc, position_copy.bc \n",
    "        # Actual move\n",
    "        newboard = put(position_copy.board, j, position_copy.board[i])\n",
    "        newboard = put(newboard, i, \"0\")\n",
    "        # If we move the rook or capture the opponent's the castling rights are lost\n",
    "        if i == 0: wc = (False, wc[1])\n",
    "        if i == 7: wc = (wc[0], False)\n",
    "        if j == 56: bc = (bc[0], False)\n",
    "        if j == 63: bc = (False, bc[1])\n",
    "        # Castling \n",
    "        if piece == \"K\":\n",
    "            wc = (False, False) # if king moves then player can't castle\n",
    "            if abs(j - i) == 2: # if castling... ¡¡¡ARREGLAR ESTO!!!\n",
    "                newboard = put(newboard, 0 if j < i else 7, \"0\")\n",
    "                newboard = put(newboard, 2 if j < i else 4, \"R\")\n",
    "        # Pawn promotion, double move and en passant capture\n",
    "        if piece == \"P\":\n",
    "            if 56 <= j:\n",
    "                newboard = put(newboard, j, prom) # changing the pawn to the promoting piece\n",
    "            if j - i == N + N: # If we move pawn two squares, the enpassant square becomes...\n",
    "                newpsquare = list(range(64))[i + N]   \n",
    "            if j == position_copy.psquare: # If we capture en passant\n",
    "                newboard = put(newboard, j + S, \"0\")\n",
    "        # We rotate the returned position, so it's ready for the next player\n",
    "        # Making a move will change the actual position object\n",
    "        # This will later make code more memory efficient\n",
    "        newboard = [x.swapcase() for x in newboard[::-1]]\n",
    "        return Position(newboard, newpsquare, newwc, newbc, position_copy.history, position_copy.turn)\n",
    "    \n",
    "    def opponent_quiet(self):\n",
    "        opponent_position = self\n",
    "        return  opponent_position.rotate().own_quiet()\n",
    "        \n",
    "    def move(self, move):\n",
    "        # The move method takes a Move object as an argument and returns a new Position \n",
    "        # object representing the state of the game after the move has been made. It first \n",
    "        # checks if the move is castling, pawn promotion, or en passant, and updates the \n",
    "        # board accordingly. It then updates the castling rights and en passant square if \n",
    "        # necessary, and rotates the board to return a new Position object.\n",
    "        i, j, prom, capt = move # prom is the letter representing the piece we are promoting to \n",
    "        piece, q, board = self.board[i], self.board[j], self.board # piece and destination piece/space\n",
    "        wc, bc = self.wc, self.bc\n",
    "        put = lambda board, i, p: board[:i] + [p] + board[i+1:]\n",
    "        newpsquare, newwc, newbc = -1, self.wc, self.bc \n",
    "        # Actual move\n",
    "        newboard = put(self.board, j, self.board[i])\n",
    "        newboard = put(newboard, i, \"0\")\n",
    "        # If we move the rook or capture the opponent's the castling rights are lost\n",
    "        if i == 0: wc = (False, wc[1])\n",
    "        if i == 7: wc = (wc[0], False)\n",
    "        if j == 56: bc = (bc[0], False)\n",
    "        if j == 63: bc = (False, bc[1])\n",
    "        # Castling \n",
    "        if piece == \"K\":\n",
    "            wc = (False, False) # if king moves then player can't castle\n",
    "            if abs(j - i) == 2: # if castling... ¡¡¡ARREGLAR ESTO!!!\n",
    "                newboard = put(newboard, 0 if j < i else 7, \"0\")\n",
    "                newboard = put(newboard, 2 if j < i else 4, \"R\")\n",
    "        # Pawn promotion, double move and en passant capture\n",
    "        if piece == \"P\":\n",
    "            if 56 <= j:\n",
    "                newboard = put(newboard, j, prom) # changing the pawn to the promoting piece\n",
    "            if j - i == N + N: # If we move pawn two squares, the enpassant square becomes...\n",
    "                newpsquare = list(reversed(range(64)))[i + N]   \n",
    "            if j == self.psquare: # If we capture en passant\n",
    "                newboard = put(newboard, j + S, \"0\")\n",
    "        # We rotate the returned position, so it's ready for the next player\n",
    "        if self.turn == True: # If white has moved\n",
    "            self.history.append(''.join(newboard)) # Making a move will add the new board to history\n",
    "        if self.turn == False: # If black has moved we add board to history from white's perspective\n",
    "            self.history.append(''.join([x.swapcase() for x in newboard[::-1]]))\n",
    "        self.turn = not self.turn # making a move changes turn\n",
    "        # Making a move will change the actual position object\n",
    "        # This will later make code more memory efficient\n",
    "        self.board, self.psquare, self.wc, self.bc = [x.swapcase() for x in newboard[::-1]], newpsquare, newwc, newbc\n",
    "        return self\n",
    "    \n",
    "    def ordered_moves(self): # We order legal moves in terms of score\n",
    "        moves = self.gen_moves()\n",
    "        return sorted(moves, key=lambda move: move.score, reverse=True) \n",
    "    \n",
    "    def three_fold(self): # The engine will see repeating a position as evaluation 0\n",
    "        counted = Counter(self.history)\n",
    "        if any(count >= 2 for count in counted.values()):\n",
    "            return True # 3-fold repetition\n",
    "        else: \n",
    "            return False\n",
    "    def pop(self): # ¡¡¡ADD ALSO WC BC PSQUARE(AND FOR HISTORY TOO)!!!\n",
    "        self.history.pop(-1) # Delete current board from history\n",
    "        self.turn = not self.turn # We change turns\n",
    "        board = list(self.history[-1])\n",
    "        if self.turn == True: # If after going back it is white's turn\n",
    "            self.board = board # Current board -> last board\n",
    "        if self.turn == False:\n",
    "            self.board = [x.swapcase() for x in board[::-1]] # we want self.board to be from players move perspective\n",
    "        return self\n",
    "    def quiet(self):\n",
    "        if self.own_quiet() and self.opponent_quiet():\n",
    "            return True\n",
    "        else:\n",
    "            return False\n",
    "    "
   ]
  },
  {
   "cell_type": "code",
   "execution_count": 733,
   "id": "c3403977",
   "metadata": {},
   "outputs": [
    {
     "name": "stdout",
     "output_type": "stream",
     "text": [
      "True\n"
     ]
    }
   ],
   "source": [
    "board = [ 'R', 'N', 'B', 'Q', 'K', 'B', 'N', 'R',          \n",
    "         'P', 'P', 'P', 'P', 'P', 'P', 'P', 'P',          \n",
    "         '0', '0', '0', '0', '0', '0', '0', '0',          \n",
    "         '0', '0', '0', '0', '0', '0', '0', '0',       \n",
    "         '0', '0', '0', '0', '0', '0', '0', '0',          \n",
    "         '0', '0', '0', '0', '0', '0', '0', '0',          \n",
    "         'p', 'p', 'p', 'p', 'p', 'p', 'p', 'p',          \n",
    "         'r', 'n', 'b', 'q', 'k', 'b', 'n', 'r' ]\n",
    "print(Position(board,-1,[True, True], [True, True], [], True).move(Move(1,16,'',0)).move(Move(1,16,'',0)).move(Move(16,1,'',0)).move(Move(16,1,'',0)).move(Move(1,16,'',0)).move(Move(1,16,'',0)).move(Move(16,1,'',0)).move(Move(16,1,'',0)).three_fold())\n"
   ]
  },
  {
   "cell_type": "code",
   "execution_count": 737,
   "id": "c1ff449f",
   "metadata": {},
   "outputs": [
    {
     "name": "stdout",
     "output_type": "stream",
     "text": [
      ".....♜.♝\n",
      "..♖.♖...\n",
      "♙....♜..\n",
      "..♟..♘♚♟\n",
      "..♝...♟♘\n",
      "......♙.\n",
      "....♙♙..\n",
      "......♔.\n"
     ]
    },
    {
     "data": {
      "text/plain": [
       "[[0], {}]"
      ]
     },
     "execution_count": 737,
     "metadata": {},
     "output_type": "execute_result"
    }
   ],
   "source": [
    "p2 = fen_to_position('5r1b/2R1R3/P4r2/2p2Nkp/2b3pN/6P1/4PP2/6K1 w - - 0 1')\n",
    "pretty_print(p2.board)\n",
    "p2.checks_pins()\n"
   ]
  },
  {
   "cell_type": "code",
   "execution_count": 738,
   "id": "ab221e41",
   "metadata": {},
   "outputs": [
    {
     "name": "stdout",
     "output_type": "stream",
     "text": [
      ".♚......\n",
      "...♟....\n",
      ".♟......\n",
      "♞♙♟..♗..\n",
      "♙♔♞..♙..\n",
      "..♖....♟\n",
      "...♜.♜..\n",
      "♗.♖.....\n",
      "[Move(i=18, j=34, prom='', score=1), Move(i=33, j=42, prom='', score=0)]\n",
      "42\n",
      "[[1, [34]], {}]\n"
     ]
    }
   ],
   "source": [
    "p2.move(Move(13, 29, '', 0))\n",
    "pretty_print(p2.board)\n",
    "print(list(p2.gen_moves()))\n",
    "print(p2.psquare)\n",
    "print(p2.checks_pins())"
   ]
  },
  {
   "cell_type": "markdown",
   "id": "7f35deb9",
   "metadata": {},
   "source": [
    "## Simple Position Evaluation"
   ]
  },
  {
   "cell_type": "code",
   "execution_count": 365,
   "id": "52890a5a",
   "metadata": {},
   "outputs": [],
   "source": [
    "pst = {\n",
    "    'P': (   0,   0,   0,   0,   0,   0,   0,   0,\n",
    "            78,  83,  86,  73, 102,  82,  85,  90,\n",
    "             7,  29,  21,  44,  40,  31,  44,   7,\n",
    "           -17,  16,  -2,  15,  14,   0,  15, -13,\n",
    "           -26,   3,  10,   9,   6,   1,   0, -23,\n",
    "           -22,   9,   5, -11, -10,  -2,   3, -19,\n",
    "           -31,   8,  -7, -37, -36, -14,   3, -31,\n",
    "             0,   0,   0,   0,   0,   0,   0,   0),\n",
    "    'N': ( -66, -53, -75, -75, -10, -55, -58, -70,\n",
    "            -3,  -6, 100, -36,   4,  62,  -4, -14,\n",
    "            10,  67,   1,  74,  73,  27,  62,  -2,\n",
    "            24,  24,  45,  37,  33,  41,  25,  17,\n",
    "            -1,   5,  31,  21,  22,  35,   2,   0,\n",
    "           -18,  10,  13,  22,  18,  15,  11, -14,\n",
    "           -23, -15,   2,   0,   2,   0, -23, -20,\n",
    "           -74, -23, -26, -24, -19, -35, -22, -69),\n",
    "    'B': ( -59, -78, -82, -76, -23,-107, -37, -50,\n",
    "           -11,  20,  35, -42, -39,  31,   2, -22,\n",
    "            -9,  39, -32,  41,  52, -10,  28, -14,\n",
    "            25,  17,  20,  34,  26,  25,  15,  10,\n",
    "            13,  10,  17,  23,  17,  16,   0,   7,\n",
    "            14,  25,  24,  15,   8,  25,  20,  15,\n",
    "            19,  20,  11,   6,   7,   6,  20,  16,\n",
    "            -7,   2, -15, -12, -14, -15, -10, -10),\n",
    "    'R': (  35,  29,  33,   4,  37,  33,  56,  50,\n",
    "            55,  29,  56,  67,  55,  62,  34,  60,\n",
    "            19,  35,  28,  33,  45,  27,  25,  15,\n",
    "             0,   5,  16,  13,  18,  -4,  -9,  -6,\n",
    "           -28, -35, -16, -21, -13, -29, -46, -30,\n",
    "           -42, -28, -42, -25, -25, -35, -26, -46,\n",
    "           -53, -38, -31, -26, -29, -43, -44, -53,\n",
    "           -30, -24, -18,   5,  -2, -18, -31, -32),\n",
    "    'Q': (   6,   1,  -8,-104,  69,  24,  88,  26,\n",
    "            14,  32,  60, -10,  20,  76,  57,  24,\n",
    "            -2,  43,  32,  60,  72,  63,  43,   2,\n",
    "             1, -16,  22,  17,  25,  20, -13,  -6,\n",
    "           -14, -15,  -2,  -5,  -1, -10, -20, -22,\n",
    "           -30,  -6, -13, -11, -16, -11, -16, -27,\n",
    "           -36, -18,   0, -19, -15, -15, -21, -38,\n",
    "           -39, -30, -31, -13, -31, -36, -34, -42),\n",
    "    'K': (   4,  54,  47, -99, -99,  60,  83, -62,\n",
    "           -32,  10,  55,  56,  56,  55,  10,   3,\n",
    "           -62,  12, -57,  44, -67,  28,  37, -31,\n",
    "           -55,  50,  11,  -4, -19,  13,   0, -49,\n",
    "           -55, -43, -52, -28, -51, -47,  -8, -50,\n",
    "           -47, -42, -43, -79, -64, -32, -29, -32,\n",
    "            -4,   3, -14, -50, -57, -18,  13,   4,\n",
    "            17,  30,  -3, -14,   6,  -1,  40,  18),\n",
    "}"
   ]
  },
  {
   "cell_type": "code",
   "execution_count": 625,
   "id": "baeaa76d",
   "metadata": {},
   "outputs": [],
   "source": [
    "def evaluate_position_from_fen(fen): # Simple position evaluation to check engine algorithm\n",
    "    board = chess.Board(fen)\n",
    "    material_value = {\n",
    "        \"P\": 100, \"N\": 300, \"B\": 300, \"R\": 500, \"Q\": 900,\n",
    "        \"p\": -100, \"n\": -300, \"b\": -300, \"r\": -500, \"q\": -900\n",
    "    }\n",
    "    total_material = 0\n",
    "    for piece in fen.split()[0]:\n",
    "        if piece in material_value:\n",
    "            total_material += material_value[piece][square]\n",
    "    return total_material\n",
    "\n",
    "def evaluate_position_from_board(board): # Simple position evaluation to check engine algorithm\n",
    "    material_value = {\n",
    "        \"P\": 100, \"N\": 300, \"B\": 300, \"R\": 500, \"Q\": 900,\n",
    "        \"p\": -100, \"n\": -300, \"b\": -300, \"r\": -500, \"q\": -900\n",
    "    }\n",
    "    total_material = 0\n",
    "    for square, piece in enumerate(board):\n",
    "        if piece in material_value:\n",
    "            total_material += material_value[piece]\n",
    "            # total_material += pst[piece.upper()][square]\n",
    "    return total_material"
   ]
  },
  {
   "cell_type": "code",
   "execution_count": 1011,
   "id": "b366a0e0",
   "metadata": {},
   "outputs": [
    {
     "ename": "NameError",
     "evalue": "name 'evaluate_position' is not defined",
     "output_type": "error",
     "traceback": [
      "\u001b[0;31m---------------------------------------------------------------------------\u001b[0m",
      "\u001b[0;31mNameError\u001b[0m                                 Traceback (most recent call last)",
      "Cell \u001b[0;32mIn[1011], line 21\u001b[0m\n\u001b[1;32m     19\u001b[0m board\u001b[38;5;241m.\u001b[39mpush(move)\n\u001b[1;32m     20\u001b[0m new_fen \u001b[38;5;241m=\u001b[39m board\u001b[38;5;241m.\u001b[39mfen()\n\u001b[0;32m---> 21\u001b[0m x \u001b[38;5;241m=\u001b[39m alpha_beta_from_fen(new_fen, depth \u001b[38;5;241m-\u001b[39m \u001b[38;5;241m1\u001b[39m, alpha, beta, \u001b[38;5;129;01mnot\u001b[39;00m maximize, \u001b[43mevaluate_position\u001b[49m)\n\u001b[1;32m     22\u001b[0m board\u001b[38;5;241m.\u001b[39mpop()\n\u001b[1;32m     24\u001b[0m \u001b[38;5;28;01mif\u001b[39;00m x[\u001b[38;5;241m0\u001b[39m] \u001b[38;5;241m>\u001b[39m best_value:\n",
      "\u001b[0;31mNameError\u001b[0m: name 'evaluate_position' is not defined"
     ]
    }
   ],
   "source": [
    "import time\n",
    "\n",
    "start_time = time.time()\n",
    "\n",
    "# Example FEN string\n",
    "fen = \"r2qkbnr/1bp2ppp/1pnp4/pB2p3/3PP3/2N2N2/PPP2PPP/R1BQ1RK1 w kq - 2 7\"\n",
    "\n",
    "depth = 5\n",
    "alpha = -np.inf\n",
    "beta = np.inf\n",
    "maximize = True\n",
    "best_move = None\n",
    "best_value = -np.inf\n",
    "\n",
    "board = chess.Board(fen)\n",
    "legal_moves = list(board.legal_moves)\n",
    "\n",
    "for move in legal_moves:\n",
    "    board.push(move)\n",
    "    new_fen = board.fen()\n",
    "    x = alpha_beta_from_fen(new_fen, depth - 1, alpha, beta, not maximize, evaluate_position)\n",
    "    board.pop()\n",
    "\n",
    "    if x[0] > best_value:\n",
    "        best_move = move\n",
    "        best_value = x[0]\n",
    "        variation = [move] + x[1]\n",
    "\n",
    "print(\"Best move: \", best_move)\n",
    "print(\"Value: \", best_value)\n",
    "end_time = time.time()\n",
    "elapsed_time = end_time - start_time\n",
    "\n",
    "print(\"Time taken:\", elapsed_time, \"seconds\")\n",
    "print('Variation:', variation)\n"
   ]
  },
  {
   "cell_type": "code",
   "execution_count": 22,
   "id": "f544f2fe",
   "metadata": {},
   "outputs": [],
   "source": [
    "def fen_to_position(fen):\n",
    "    board = ['0']*64\n",
    "    fen_parts = fen.split()\n",
    "    fen_board = fen_parts[0].split('/')\n",
    "    for i in range(len(fen_board)):\n",
    "        fen_row = fen_board[i]\n",
    "        j = 0\n",
    "        for c in fen_row:\n",
    "            if c.isdigit():\n",
    "                j += int(c)\n",
    "            else:\n",
    "                board[(7-i)*8+j] = c\n",
    "                j += 1\n",
    "    \n",
    "    en_passant = chess.SQUARE_NAMES.index(fen_parts[3]) if fen_parts[3] != '-' else -1\n",
    "    \n",
    "    white_castling_rights = [False]*2\n",
    "    if 'K' in fen_parts[2]:\n",
    "        white_castling_rights[0] = True\n",
    "    if 'Q' in fen_parts[2]:\n",
    "        white_castling_rights[1] = True\n",
    "    black_castling_rights = [False]*2\n",
    "    if 'k' in fen_parts[2]:\n",
    "        black_castling_rights[0] = True\n",
    "    if 'q' in fen_parts[2]:\n",
    "        black_castling_rights[1] = True\n",
    "    \n",
    "    turn = fen_parts[1] == 'w'\n",
    "    \n",
    "    return Position(board, en_passant, white_castling_rights, black_castling_rights, [], turn)\n"
   ]
  },
  {
   "cell_type": "code",
   "execution_count": 23,
   "id": "1e3303d5",
   "metadata": {},
   "outputs": [],
   "source": [
    "import chess\n",
    "\n",
    "def position_to_fen(position):\n",
    "    board = chess.Board()\n",
    "    board.set_board_fen(position.board_fen())\n",
    "    fen_parts = [\n",
    "        board.board_fen(),\n",
    "        'w' if position.turn else 'b',\n",
    "        ''.join(['K' if position.castling_rights[0] else '',\n",
    "                 'Q' if position.castling_rights[1] else '',\n",
    "                 'k' if position.castling_rights[2] else '',\n",
    "                 'q' if position.castling_rights[3] else '']),\n",
    "        chess.SQUARE_NAMES[position.en_passant] if position.en_passant != -1 else '-',\n",
    "        str(position.halfmove_clock),\n",
    "        str(position.fullmove_number)\n",
    "    ]\n",
    "    return ' '.join(fen_parts)"
   ]
  },
  {
   "cell_type": "markdown",
   "id": "f39a9f5c",
   "metadata": {},
   "source": [
    "### The Simple Algorithms\n",
    "\n",
    "I am creating two simple algorithms, one which runs with the python chess library (alpha_beta_from_fen) and the other with my move generator. My move generator appears to make the algorithm 2 times faster."
   ]
  },
  {
   "cell_type": "code",
   "execution_count": 123,
   "id": "23cc0d0c",
   "metadata": {},
   "outputs": [],
   "source": [
    "import chess\n",
    "def alpha_beta_from_fen(fen, depth, alpha, beta, maximize, evaluate_position): \n",
    "    # maximize is a boolean variable (True if we want to maximize the evaluation (we are white))\n",
    "    # alpha is the current best evaluation for white, it will start at -infinity\n",
    "    # beta is the current best evaluation for black, it will start at +infinity\n",
    "    \n",
    "    board = chess.Board(fen = fen)\n",
    "    legal_moves = list(board.legal_moves)\n",
    "    \n",
    "    if depth == 0:\n",
    "        return evaluate_position(fen), []\n",
    "    \n",
    "    best_move = None\n",
    "    \n",
    "    if maximize:\n",
    "        value = -1000\n",
    "        for move in legal_moves:\n",
    "            board.push(move)\n",
    "            child_value = alpha_beta_from_fen(board.fen(), depth - 1, alpha, beta, False, evaluate_position)[0]\n",
    "            if child_value > value:\n",
    "                value = child_value\n",
    "                best_move = move\n",
    "            board.pop() # Unmake the last move\n",
    "            alpha = max(alpha, value)\n",
    "            if alpha >= beta:\n",
    "                break\n",
    "    else:\n",
    "        value = 1000\n",
    "        for move in legal_moves:\n",
    "            board.push(move)\n",
    "            child_value = alpha_beta_from_fen(board.fen(), depth - 1, alpha, beta, True, evaluate_position)[0]\n",
    "            if child_value < value:\n",
    "                value = child_value\n",
    "                best_move = move\n",
    "            board.pop() \n",
    "            beta = min(beta, value)\n",
    "            if beta <= alpha:\n",
    "                break\n",
    "    \n",
    "    return value, best_move"
   ]
  },
  {
   "cell_type": "code",
   "execution_count": 124,
   "id": "7bf8a5cb",
   "metadata": {},
   "outputs": [],
   "source": [
    "def engine_fen(fen, is_maximizing_player, is_our_move, depth): # ¡¡¡ FIX AND ADD VARIATIONS!!!\n",
    "    # is_maximizing_player is set to True if we are white\n",
    "    # alpha is the current best evaluation for white, it will start at -infinity\n",
    "    # beta is the current best evaluation for black, it will start at +infinity\n",
    "    start_time = time.time()\n",
    "    best_move = None\n",
    "    board = chess.Board(fen)\n",
    "    legal_moves = list(board.legal_moves)\n",
    "\n",
    "    if is_our_move:\n",
    "        if is_maximizing_player:\n",
    "            alpha = -np.inf\n",
    "            beta = np.inf\n",
    "            best_value = -np.inf\n",
    "        else:\n",
    "            alpha = -np.inf\n",
    "            beta = np.inf\n",
    "            best_value = np.inf\n",
    "        \n",
    "        for move in legal_moves:\n",
    "            board.push(move)\n",
    "            new_fen = board.fen()\n",
    "            value = alpha_beta_from_fen(new_fen, depth - 1, alpha, beta, not is_maximizing_player, evaluate_position_from_fen)[0]\n",
    "            board.pop()\n",
    "\n",
    "            if is_maximizing_player and value > best_value:\n",
    "                best_move = move\n",
    "                best_value = value\n",
    "            elif is_maximizing_player==False and value < best_value:\n",
    "                best_move = move\n",
    "                best_value = value\n",
    "        end_time = time.time()\n",
    "        elapsed_time = end_time - start_time\n",
    "        return [\"Time taken:\", elapsed_time, \"seconds\", \"Best move: \", best_move, \"Evaluation: \", best_value]\n",
    "    else: # Now we make the engine think while it isn't it's turn\n",
    "        Dict = {}\n",
    "        for move in legal_moves:\n",
    "            board.push(move)\n",
    "            new_fen = board.fen()\n",
    "            best_move = None\n",
    "            Dict[move]=(engine(fen, is_maximizing_player, is_our_move, depth+1)[4], \n",
    "                        engine(fen, is_maximizing_player, is_our_move, depth+1)[6])\n",
    "        return(Dict) # This is a dictionary of the form {move: best response, evaluation}\n",
    "        "
   ]
  },
  {
   "cell_type": "code",
   "execution_count": 125,
   "id": "2be8f1ed",
   "metadata": {},
   "outputs": [
    {
     "data": {
      "text/plain": [
       "['Time taken:',\n",
       " 175.86417317390442,\n",
       " 'seconds',\n",
       " 'Best move: ',\n",
       " Move.from_uci('d4e5'),\n",
       " 'Evaluation: ',\n",
       " 4]"
      ]
     },
     "execution_count": 125,
     "metadata": {},
     "output_type": "execute_result"
    }
   ],
   "source": [
    "engine_fen('r2qkbnr/1bp2ppp/1pnp4/pB2p3/3PP3/2N2N2/PPP2PPP/R1BQ1RK1 w kq - 2 7', True, True, 5)"
   ]
  },
  {
   "cell_type": "markdown",
   "id": "b654d97a",
   "metadata": {},
   "source": [
    "This is the best move, in a position where we are black and it is our move. For a search of depth 5, it takes 154 seconds which should be improved, it is finding the best move in a simple capture. Note that we are using a very simple evaluation function which will be faster than the true one."
   ]
  },
  {
   "cell_type": "code",
   "execution_count": 140,
   "id": "4b27e117",
   "metadata": {},
   "outputs": [],
   "source": [
    "def alpha_beta_from_position(position, depth, alpha, beta, maximize):\n",
    "    # maximize is a boolean variable (True if we want to maximize the evaluation (we are moving))\n",
    "    # alpha is the current best evaluation for us, it will start at -infinity\n",
    "    # beta is the current best evaluation for opponent, it will start at +infinity\n",
    "    if depth == 0 and maximize:\n",
    "        # If in the last move it is our turn, the position will be evaluated as if we are white, since we are \n",
    "        # the maximizing player, this is the correct sign\n",
    "        return evaluate_position_from_board(position.board), 0\n",
    "    if depth == 0 and not maximize:\n",
    "        # If in the last move is the opponents turn, the position will be evaluated as if we are black, since\n",
    "        # we are the maximizing player, we change the sign\n",
    "        return -evaluate_position_from_board(position.board), 0 \n",
    "    \n",
    "    legal_moves = position.gen_moves()\n",
    "    best_move = None\n",
    "    \n",
    "    if maximize: # If we have to move, we want to maximize. This is ensured by the above\n",
    "        value = -10000 # This is the best evaluation for white in the child_values\n",
    "        for move in legal_moves:\n",
    "            position1 = position\n",
    "            child_value = alpha_beta_from_position(position1.move(move), depth - 1, alpha, beta, False)[0]\n",
    "            if child_value > value:\n",
    "                value = child_value\n",
    "                best_move = move\n",
    "            alpha = max(alpha, value)\n",
    "            if alpha >= beta:\n",
    "                break # Because if our best move is better than the best in another set of moves that lead from\n",
    "                      # a different move from opponent, then the opponent will choose the other move.\n",
    "                \n",
    "    else: # If opponent has to move\n",
    "        value = 10000\n",
    "        for move in legal_moves:\n",
    "            position1 = position\n",
    "            child_value = alpha_beta_from_position(position1.move(move), depth - 1, alpha, beta, True)[0]\n",
    "            if child_value < value:\n",
    "                value = child_value\n",
    "                best_move = move\n",
    "            beta = min(beta, value)\n",
    "            if alpha >= beta: # Because if our opponents best move is better (less than) than the best \n",
    "                break         # in another set of moves that lead from a different move from us, \n",
    "                              # then we will choose the other move.\n",
    "    \n",
    "    return value, best_move \n"
   ]
  },
  {
   "cell_type": "code",
   "execution_count": 141,
   "id": "dbf00236",
   "metadata": {},
   "outputs": [],
   "source": [
    "import time\n",
    "import numpy as np\n",
    "def engine_position(position, is_our_move, depth): \n",
    "    # alpha is the current best evaluation for white, it will start at -1000\n",
    "    # beta is the current best evaluation for black, it will start at +1000\n",
    "    start_time = time.time()\n",
    "    best_move = None\n",
    "    legal_moves = position.gen_moves()\n",
    "\n",
    "    if is_our_move:\n",
    "        alpha = -10000 # Current best evaluation for us\n",
    "        beta = 10000 # Current best evaluation for opponent\n",
    "        best_value = -10000\n",
    "        best_value, best_move = alpha_beta_from_position(position, depth, alpha, beta, True)\n",
    "        end_time = time.time()\n",
    "        elapsed_time = end_time - start_time\n",
    "        return [\"Time taken:\", elapsed_time, \"seconds\", \"Best move: \", best_move, \"Evaluation: \", best_value]\n",
    "    else: # Now we make the engine think while it isn't it's turn\n",
    "        Dict = {}\n",
    "        for move in legal_moves:\n",
    "            new_position = position.move(move)\n",
    "            best_move = None\n",
    "            Dict[move]=(engine_position(new_position, is_maximizing_player, is_our_move, depth+1)[4], \n",
    "                        engine_position(new_position, is_maximizing_player, is_our_move, depth+1)[6])\n",
    "        return(Dict) # This is a dictionary of the form {move: best response, evaluation}\n"
   ]
  },
  {
   "cell_type": "code",
   "execution_count": 142,
   "id": "662742c5",
   "metadata": {},
   "outputs": [
    {
     "data": {
      "text/plain": [
       "['Time taken:',\n",
       " 28.686916828155518,\n",
       " 'seconds',\n",
       " 'Best move: ',\n",
       " Move(i=27, j=36, prom='', score=2),\n",
       " 'Evaluation: ',\n",
       " 5]"
      ]
     },
     "execution_count": 142,
     "metadata": {},
     "output_type": "execute_result"
    }
   ],
   "source": [
    "engine_position(fen_to_position('r2qkbnr/1bp2ppp/1pnp4/pB2p3/3PP3/2N2N2/PPP2PPP/R1BQ1RK1 w kq - 2 7'), True, 5)\n"
   ]
  },
  {
   "cell_type": "code",
   "execution_count": 154,
   "id": "03f91a6a",
   "metadata": {},
   "outputs": [
    {
     "data": {
      "text/plain": [
       "['Time taken:',\n",
       " 20.29952311515808,\n",
       " 'seconds',\n",
       " 'Best move: ',\n",
       " Move(i=12, j=20, prom='', capt='0'),\n",
       " 'Evaluation: ',\n",
       " 0]"
      ]
     },
     "execution_count": 154,
     "metadata": {},
     "output_type": "execute_result"
    }
   ],
   "source": [
    "engine_position(fen_to_position('rnbqkbnr/pppppppp/8/8/8/8/PPPPPPPP/RNBQKBNR w KQkq - 0 1'), True, True, 6)"
   ]
  },
  {
   "cell_type": "markdown",
   "id": "1565bfd4",
   "metadata": {},
   "source": [
    "### Improving the Algorithms \n",
    "\n",
    "There are several ways to improve the alpha-beta algorithm for chess:\n",
    "\n",
    "* Iterative Deepening: This technique involves running the alpha-beta search multiple times with increasing depth limits. It allows the program to quickly find a good move at lower depths, and then continue searching deeper if there is time remaining.\n",
    "\n",
    "* Killer moves: This are moves stored during the search when iterative deepening. If a move creates a cutoff during one step of iterative deepening (running alphabeta on a fixed depth), then it is stored and on the next step of iterative deepening it will be tried the first move.\n",
    "\n",
    "* Transposition Tables: This technique involves storing previously computed evaluations in a hash table, so that the algorithm can avoid redundant evaluations. This can be particularly useful when searching the same position from different move orders.\n",
    "\n",
    "* Move Ordering: This technique involves ordering the moves so that the most promising moves are searched first. This can lead to pruning more branches and searching deeper in the remaining branches. **DONE WITH CAPTURES AND CEHCKS**\n",
    "\n",
    "* Quiescence Search: This technique involves extending the search depth for positions with captures and checks, as these are often critical in chess. This can help avoid the \"horizon effect\" where a position looks good at the current depth, but leads to a bad position in the next ply. **DONE**\n",
    "\n",
    "* Null Move Pruning: This technique involves temporarily passing the turn to the opponent and then evaluating the position. If the evaluation is significantly worse than the current best score, then the move leading to that position is unlikely to be good, and the algorithm can skip searching that move.\n",
    "\n",
    "* Futility Pruning: This technique involves pruning branches where the evaluation is already significantly worse than the current best score. This can reduce the search depth and speed up the algorithm."
   ]
  },
  {
   "cell_type": "code",
   "execution_count": 24,
   "id": "2fe15388",
   "metadata": {},
   "outputs": [],
   "source": [
    "Squares_Dict = ['a1', 'b1', 'c1', 'd1', 'e1', 'f1', 'g1', 'h1',\n",
    "                'a2', 'b2', 'c2', 'd2', 'e2', 'f2', 'g2', 'h2',\n",
    "                'a3', 'b3', 'c3', 'd3', 'e3', 'f3', 'g3', 'h3',\n",
    "                'a4', 'b4', 'c4', 'd4', 'e4', 'f4', 'g4', 'h4',\n",
    "                'a5', 'b5', 'c5', 'd5', 'e5', 'f5', 'g5', 'h5',\n",
    "                'a6', 'b6', 'c6', 'd6', 'e6', 'f6', 'g6', 'h6',\n",
    "                'a7', 'b7', 'c7', 'd7', 'e7', 'f7', 'g7', 'h7',\n",
    "                'a8', 'b8', 'c8', 'd8', 'e8', 'f8', 'g8', 'h8']\n"
   ]
  },
  {
   "cell_type": "code",
   "execution_count": 708,
   "id": "3181f7ab",
   "metadata": {},
   "outputs": [],
   "source": [
    "import time\n",
    "import numpy as np\n",
    "class Engine:\n",
    "    def alpha_beta( position, depth, alpha, beta, our_turn):\n",
    "        ordered_moves = position.ordered_moves()\n",
    "        if position.three_fold(): # Repetitions\n",
    "            return 0, 0 \n",
    "    \n",
    "        if len(ordered_moves)==0 and position.checks_pins()[0][0]==0: # Stalemate\n",
    "            return 0, 0\n",
    "    \n",
    "        if len(ordered_moves)==0 and our_turn: # Checkmate against us\n",
    "            return -1003, 0\n",
    "    \n",
    "        if len(ordered_moves)==0 and not our_turn: # Checkmate against opponent\n",
    "            return 1003, 0\n",
    "    \n",
    "        if depth <= 0 and position.quiet() and our_turn:\n",
    "            return evaluate_position_from_board(position.board), 0\n",
    "    \n",
    "        if depth <= 0 and position.quiet() and not our_turn:\n",
    "            return -evaluate_position_from_board(position.board), 0\n",
    "        \n",
    "        if depth<= 0 and not position.quiet(): # If depth is reached we continue with captures (not pawns) and\n",
    "            ordered_moves = [move for move in ordered_moves if move.score >= 2] # checks until quiet position\n",
    "        \n",
    "        '''if len(ordered_moves)==0 and len(position.own_attacked_squares())>=2:\n",
    "            print('strange case where king cannot take 1')\n",
    "            ordered_moves = list(position.out_of_attack_moves())'''\n",
    "        \n",
    "        if len(ordered_moves)==0 and our_turn:\n",
    "            return evaluate_position_from_board(position.board), 0\n",
    "            \n",
    "            \n",
    "        if len(ordered_moves)==0 and not our_turn:\n",
    "            return -evaluate_position_from_board(position.board), 0\n",
    "            \n",
    "        best_move = ordered_moves[0]\n",
    "    \n",
    "        if our_turn: # If we have to move, we want to maximize. This is ensured by the above\n",
    "            value1 = -1000 # This is the best evaluation for white in the child_values\n",
    "            for move in ordered_moves:\n",
    "                position.move(move)\n",
    "                child_value = Engine.alpha_beta(position, depth - 1, alpha, beta, False)[0]\n",
    "                if child_value > value1:\n",
    "                    value1 = child_value\n",
    "                    best_move = move\n",
    "                position.pop()\n",
    "                if value1 >= beta:\n",
    "                    break # Because if our best move is better than the best in another set of moves that lead from\n",
    "                alpha = max(alpha, value1)      # a different move from opponent, then the opponent will choose the other move.\n",
    "                \n",
    "        else: # If opponent has to move\n",
    "            value2 = 1001\n",
    "            for move in ordered_moves:\n",
    "                position.move(move)\n",
    "                child_value = Engine.alpha_beta(position, depth - 1, alpha, beta, True)[0]\n",
    "                if child_value < value2:\n",
    "                    value2 = child_value\n",
    "                    best_move = move\n",
    "                position.pop()\n",
    "                if alpha >= value2: # Because if our opponents best move is better (less than) than the best \n",
    "                    break         # in another set of moves that lead from a different move from us, \n",
    "                beta = min(beta, value2)     # then we will choose the other move.\n",
    "        return (value1, best_move) if our_turn else (value2,best_move)\n",
    "    \n",
    "    def Search(position, is_our_move, depth): \n",
    "        # alpha is the current best evaluation for white, it will start at -1000\n",
    "        # beta is the current best evaluation for black, it will start at +1000\n",
    "        start_time = time.time()\n",
    "        best_move = None\n",
    "        if is_our_move:\n",
    "            alpha = -10000 # Current best evaluation for us\n",
    "            beta = 10000 # Current best evaluation for opponent\n",
    "            best_value, best_move = Engine.alpha_beta(position, depth, alpha, beta, True)\n",
    "            end_time = time.time()\n",
    "            elapsed_time = end_time - start_time\n",
    "            return [\"Time taken:\", elapsed_time, \"seconds\", \"Best move: \", best_move, \"Evaluation: \", best_value]\n",
    "        else: # Now we make the engine think while it isn't it's turn ¡¡¡ACABAR ESTO!!!\n",
    "            Dict = {}\n",
    "            new_position = position.move(move)\n",
    "            best_move = None\n",
    "            Dict[move]=(new_engine_position(new_position, is_our_move, depth+1)[4], \n",
    "                        new_engine_position(new_position, is_our_move, depth+1)[6])\n",
    "            return(Dict) # This is a dictionary of the form {move: best response, evaluation}\n",
    "    def Tell_Move(move): # Spit move to UCI\n",
    "        square = Squares_Dict[move.i]\n",
    "        destination = Squares_Dict[move.j]\n",
    "        return ''.join([square, destination, move.prom])\n"
   ]
  },
  {
   "cell_type": "code",
   "execution_count": 375,
   "id": "7cec2bba",
   "metadata": {},
   "outputs": [
    {
     "data": {
      "text/plain": [
       "'b1a2Q'"
      ]
     },
     "execution_count": 375,
     "metadata": {},
     "output_type": "execute_result"
    }
   ],
   "source": [
    "Engine.Tell_Move(Move(1,8,'Q',0))\n"
   ]
  },
  {
   "cell_type": "markdown",
   "id": "db8e6b33",
   "metadata": {},
   "source": [
    "### Checkmates (The engine makes them all)"
   ]
  },
  {
   "cell_type": "code",
   "execution_count": 613,
   "id": "a9e6b28a",
   "metadata": {
    "scrolled": true
   },
   "outputs": [
    {
     "data": {
      "text/plain": [
       "['Time taken:',\n",
       " 0.08354902267456055,\n",
       " 'seconds',\n",
       " 'Best move: ',\n",
       " Move(i=18, j=2, prom='', score=3),\n",
       " 'Evaluation: ',\n",
       " 1003]"
      ]
     },
     "execution_count": 613,
     "metadata": {},
     "output_type": "execute_result"
    }
   ],
   "source": [
    "Engine.Search(fen_to_position('8/8/8/8/8/2R5/1R6/6k1 w - - 0 1'), True, 2)\n"
   ]
  },
  {
   "cell_type": "code",
   "execution_count": 624,
   "id": "64304d58",
   "metadata": {},
   "outputs": [
    {
     "name": "stdout",
     "output_type": "stream",
     "text": [
      "['Time taken:', 0.0991671085357666, 'seconds', 'Best move: ', Move(i=52, j=60, prom='', score=3), 'Evaluation: ', 1003]\n"
     ]
    }
   ],
   "source": [
    "print(Engine.Search(fen_to_position('6k1/4Rppp/8/8/8/8/5PPP/6K1 w - - 0 1'), True, 2))\n",
    "\n"
   ]
  },
  {
   "cell_type": "code",
   "execution_count": 629,
   "id": "652c32fe",
   "metadata": {},
   "outputs": [
    {
     "name": "stdout",
     "output_type": "stream",
     "text": [
      "['Time taken:', 0.7647218704223633, 'seconds', 'Best move: ', Move(i=4, j=60, prom='', score=5), 'Evaluation: ', 1001]\n"
     ]
    }
   ],
   "source": [
    "print(Engine.Search(fen_to_position('2r1r1k1/5ppp/8/8/Q7/8/5PPP/4R1K1 w - - 0 1'), True, 4))\n"
   ]
  },
  {
   "cell_type": "code",
   "execution_count": 628,
   "id": "eee07b53",
   "metadata": {},
   "outputs": [
    {
     "name": "stdout",
     "output_type": "stream",
     "text": [
      "['Time taken:', 2.3391129970550537, 'seconds', 'Best move: ', Move(i=21, j=53, prom='', score=3), 'Evaluation: ', 1001]\n"
     ]
    }
   ],
   "source": [
    "print(Engine.Search(fen_to_position('6k1/3qb1pp/4p3/ppp1P3/8/2PP1Q2/PP4PP/5RK1 w - - 0 1'), True, 4))\n"
   ]
  },
  {
   "cell_type": "code",
   "execution_count": 630,
   "id": "08fe3af2",
   "metadata": {},
   "outputs": [
    {
     "name": "stdout",
     "output_type": "stream",
     "text": [
      "['Time taken:', 2.2835168838500977, 'seconds', 'Best move: ', Move(i=56, j=60, prom='', score=3), 'Evaluation: ', 1003]\n"
     ]
    }
   ],
   "source": [
    "print(Engine.Search(fen_to_position('R7/4kp2/5N2/4P3/8/8/8/6K1 w - - 0 1'), True, 4))\n"
   ]
  },
  {
   "cell_type": "code",
   "execution_count": 739,
   "id": "4ba763c5",
   "metadata": {},
   "outputs": [
    {
     "name": "stdout",
     "output_type": "stream",
     "text": [
      "['Time taken:', 50.26174783706665, 'seconds', 'Best move: ', Move(i=52, j=54, prom='', score=3), 'Evaluation: ', 1001]\n"
     ]
    }
   ],
   "source": [
    "print(Engine.Search(fen_to_position('5r1b/2R1R3/P4r2/2p2Nkp/2b3pN/6P1/4PP2/6K1 w - - 0 1'), True, 4))\n"
   ]
  },
  {
   "cell_type": "markdown",
   "id": "b48023d3",
   "metadata": {},
   "source": [
    "### Some simple tactics"
   ]
  },
  {
   "cell_type": "code",
   "execution_count": 740,
   "id": "b3747a03",
   "metadata": {},
   "outputs": [
    {
     "name": "stdout",
     "output_type": "stream",
     "text": [
      "♜..♛♚♝♞♜\n",
      ".♝♟..♟♟♟\n",
      ".♟♞♟....\n",
      "♟♗..♟...\n",
      "...♙♙...\n",
      "..♘..♘..\n",
      "♙♙♙..♙♙♙\n",
      "♖.♗♕.♖♔.\n",
      "['Time taken:', 25.392232179641724, 'seconds', 'Best move: ', Move(i=33, j=42, prom='', score=5), 'Evaluation: ', 600] Best move should be: 27, 35\n"
     ]
    }
   ],
   "source": [
    "pretty_print(fen_to_position('r2qkbnr/1bp2ppp/1pnp4/pB2p3/3PP3/2N2N2/PPP2PPP/R1BQ1RK1 w kq - 2 7').board)\n",
    "print(Engine.Search(fen_to_position('r2qkbnr/1bp2ppp/1pnp4/pB2p3/3PP3/2N2N2/PPP2PPP/R1BQ1RK1 w kq - 2 7'), True, 3), 'Best move should be: 27, 35')\n"
   ]
  },
  {
   "cell_type": "code",
   "execution_count": 741,
   "id": "34d9d759",
   "metadata": {},
   "outputs": [
    {
     "name": "stdout",
     "output_type": "stream",
     "text": [
      ".♚♜..♝.♜\n",
      "♟♟♟..♟♟♟\n",
      "..♞..♞..\n",
      "...♟....\n",
      "...♙..♛♙\n",
      "..♘.♙.♙.\n",
      "♙♙♙..♙..\n",
      "♖.♗♔♕..♖\n",
      "[Move(i=3, j=11, prom='', score=0), Move(i=4, j=12, prom='', score=0), Move(i=13, j=21, prom='', score=0), Move(i=18, j=12, prom='', score=0)]\n",
      "[Move(i=3, j=11, prom='', score=0), Move(i=4, j=12, prom='', score=0), Move(i=13, j=21, prom='', score=0), Move(i=18, j=12, prom='', score=0)]\n"
     ]
    }
   ],
   "source": [
    "pretty_print(fen_to_position('1kr2b1r/ppp2ppp/2n2n2/3p4/3P2qP/2N1P1P1/PPP2P2/R1BKQ2R w KQk - 0 1').board)\n",
    "print(list(fen_to_position('1kr2b1r/ppp2ppp/2n2n2/3p4/3P2qP/2N1P1P1/PPP2P2/R1BKQ2R w KQk - 0 1').out_of_attack_moves()))\n",
    "print(list(fen_to_position('1kr2b1r/ppp2ppp/2n2n2/3p4/3P2qP/2N1P1P1/PPP2P2/R1BKQ2R w KQk - 0 1').ordered_moves()))\n"
   ]
  },
  {
   "cell_type": "code",
   "execution_count": 742,
   "id": "a63aa17e",
   "metadata": {},
   "outputs": [
    {
     "name": "stdout",
     "output_type": "stream",
     "text": [
      ".♚......\n",
      "♟♟♟...♛.\n",
      "........\n",
      "....♜...\n",
      "........\n",
      "........\n",
      "...♗.♙♙♙\n",
      "♖....♕♔.\n",
      "['Time taken:', 132.9972438812256, 'seconds', 'Best move: ', Move(i=11, j=18, prom='', score=0), 'Evaluation: ', 400] Best move should be: 11, 18\n"
     ]
    }
   ],
   "source": [
    "pretty_print(fen_to_position('1k6/ppp3q1/8/4r3/8/8/3B1PPP/R4QK1 w - - 0 1').board)\n",
    "print(Engine.Search(fen_to_position('1k6/ppp3q1/8/4r3/8/8/3B1PPP/R4QK1 w - - 0 1'), True, 4), 'Best move should be: 11, 18')\n"
   ]
  },
  {
   "cell_type": "code",
   "execution_count": 743,
   "id": "eede4e02",
   "metadata": {},
   "outputs": [
    {
     "name": "stdout",
     "output_type": "stream",
     "text": [
      "....♚...\n",
      "......♟.\n",
      ".....♟.♟\n",
      "....♞...\n",
      "........\n",
      ".......♙\n",
      ".....♙♙.\n",
      "....♖.♔.\n",
      "['Time taken:', 2.7279059886932373, 'seconds', 'Best move: ', Move(i=13, j=29, prom='', score=0), 'Evaluation: ', 400] Best move should be: 13, 29\n"
     ]
    }
   ],
   "source": [
    "pretty_print(fen_to_position('4k3/6p1/5p1p/4n3/8/7P/5PP1/4R1K1 w - - 0 1').board)\n",
    "print(Engine.Search(fen_to_position('4k3/6p1/5p1p/4n3/8/7P/5PP1/4R1K1 w - - 0 1'), True, 4), 'Best move should be: 13, 29')\n"
   ]
  },
  {
   "cell_type": "code",
   "execution_count": 744,
   "id": "65c6cdad",
   "metadata": {},
   "outputs": [
    {
     "name": "stdout",
     "output_type": "stream",
     "text": [
      "♜....♜♚.\n",
      "♟♟.♟.♟♟♟\n",
      ".♛♟..♞..\n",
      "........\n",
      "....♙...\n",
      ".♙.♙..♕.\n",
      "♙♗♙..♙♙♙\n",
      "♖....♖♔.\n",
      "['Time taken:', 56.72650098800659, 'seconds', 'Best move: ', Move(i=9, j=45, prom='', score=2), 'Evaluation: ', 400] Best move should be: 9, 45\n"
     ]
    }
   ],
   "source": [
    "pretty_print(fen_to_position('r4rk1/pp1p1ppp/1qp2n2/8/4P3/1P1P2Q1/PBP2PPP/R4RK1 w - - 0 1').board)\n",
    "print(Engine.Search(fen_to_position('r4rk1/pp1p1ppp/1qp2n2/8/4P3/1P1P2Q1/PBP2PPP/R4RK1 w - - 0 1'), True, 4), 'Best move should be: 9, 45')\n"
   ]
  },
  {
   "cell_type": "code",
   "execution_count": 746,
   "id": "2cb49534",
   "metadata": {},
   "outputs": [
    {
     "name": "stdout",
     "output_type": "stream",
     "text": [
      "..♚..♝♞♜\n",
      "♟♟..♟♟.♟\n",
      "......♟.\n",
      ".....♞..\n",
      "........\n",
      ".......♗\n",
      ".♙♙.♙.♙♙\n",
      "..♗.♔.♘♖\n",
      "['Time taken:', 0.4049570560455322, 'seconds', 'Best move: ', Move(i=12, j=28, prom='', score=0), 'Evaluation: ', 200] Best move should be: 12, 28\n"
     ]
    }
   ],
   "source": [
    "pretty_print(fen_to_position('2k2bnr/pp2pp1p/6p1/5n2/8/7B/1PP1P1PP/2B1K1NR w Kk - 0 1').board)\n",
    "print(Engine.Search(fen_to_position('2k2bnr/pp2pp1p/6p1/5n2/8/7B/1PP1P1PP/2B1K1NR w Kk - 0 1'), True, 2), 'Best move should be: 12, 28')\n"
   ]
  },
  {
   "cell_type": "code",
   "execution_count": 620,
   "id": "4fc724ed",
   "metadata": {},
   "outputs": [
    {
     "name": "stdout",
     "output_type": "stream",
     "text": [
      "..♚..♝♞♜\n",
      "♟♟..♟♟.♟\n",
      "......♟.\n",
      ".....♞..\n",
      "........\n",
      ".......♗\n",
      ".♙♙.♙.♙♙\n",
      "..♗.♔.♘♖\n",
      "[Move(i=23, j=37, prom='', score=5), Move(i=2, j=11, prom='', score=0), Move(i=2, j=20, prom='', score=0), Move(i=2, j=29, prom='', score=0), Move(i=2, j=38, prom='', score=0), Move(i=2, j=47, prom='', score=0), Move(i=4, j=3, prom='', score=0), Move(i=4, j=13, prom='', score=0), Move(i=4, j=11, prom='', score=0), Move(i=4, j=5, prom='', score=0), Move(i=6, j=21, prom='', score=0), Move(i=9, j=17, prom='', score=0), Move(i=9, j=25, prom='', score=0), Move(i=10, j=18, prom='', score=0), Move(i=10, j=26, prom='', score=0), Move(i=12, j=20, prom='', score=0), Move(i=12, j=28, prom='', score=0), Move(i=14, j=22, prom='', score=0), Move(i=14, j=30, prom='', score=0), Move(i=23, j=30, prom='', score=0)]\n"
     ]
    }
   ],
   "source": [
    "positionT = fen_to_position('2k2bnr/pp2pp1p/6p1/5n2/8/7B/1PP1P1PP/2B1K1NR w Kk - 0 1')\n",
    "pretty_print(positionT.board)\n",
    "print(positionT.ordered_moves())"
   ]
  },
  {
   "cell_type": "code",
   "execution_count": 621,
   "id": "23e0e992",
   "metadata": {},
   "outputs": [
    {
     "name": "stdout",
     "output_type": "stream",
     "text": [
      "♜♞.♚.♝..\n",
      "♟♟...♟♟.\n",
      "♝.......\n",
      "...♟....\n",
      "..♘.....\n",
      ".♙......\n",
      "♙.♙♙..♙♙\n",
      "♖♘♗..♔..\n",
      "[Move(i=1, j=18, prom='', score=0), Move(i=1, j=16, prom='', score=0), Move(i=2, j=9, prom='', score=0), Move(i=2, j=16, prom='', score=0), Move(i=5, j=4, prom='', score=0), Move(i=5, j=13, prom='', score=0), Move(i=5, j=12, prom='', score=0), Move(i=5, j=6, prom='', score=0), Move(i=8, j=16, prom='', score=0), Move(i=8, j=24, prom='', score=0), Move(i=10, j=18, prom='', score=0), Move(i=11, j=19, prom='', score=0), Move(i=11, j=27, prom='', score=0), Move(i=14, j=22, prom='', score=0), Move(i=14, j=30, prom='', score=0), Move(i=15, j=23, prom='', score=0), Move(i=15, j=31, prom='', score=0), Move(i=17, j=25, prom='', score=0)]\n"
     ]
    }
   ],
   "source": [
    "positionT.move(Move(12,28,'',0))\n",
    "pretty_print(positionT.board)\n",
    "print(positionT.ordered_moves())"
   ]
  },
  {
   "cell_type": "code",
   "execution_count": 622,
   "id": "df36a34c",
   "metadata": {},
   "outputs": [
    {
     "name": "stdout",
     "output_type": "stream",
     "text": [
      "..♚..♝♞♜\n",
      "♟♟...♟.♟\n",
      "...♟..♟.\n",
      ".....♞..\n",
      "....♙...\n",
      ".......♗\n",
      ".♙♙...♙♙\n",
      "..♗.♔.♘♖\n",
      "[Move(i=23, j=37, prom='', score=5), Move(i=28, j=37, prom='', score=2), Move(i=2, j=11, prom='', score=0), Move(i=2, j=20, prom='', score=0), Move(i=2, j=29, prom='', score=0), Move(i=2, j=38, prom='', score=0), Move(i=2, j=47, prom='', score=0), Move(i=4, j=3, prom='', score=0), Move(i=4, j=13, prom='', score=0), Move(i=4, j=12, prom='', score=0), Move(i=4, j=11, prom='', score=0), Move(i=4, j=5, prom='', score=0), Move(i=6, j=21, prom='', score=0), Move(i=6, j=12, prom='', score=0), Move(i=9, j=17, prom='', score=0), Move(i=9, j=25, prom='', score=0), Move(i=10, j=18, prom='', score=0), Move(i=10, j=26, prom='', score=0), Move(i=14, j=22, prom='', score=0), Move(i=14, j=30, prom='', score=0), Move(i=23, j=30, prom='', score=0), Move(i=28, j=36, prom='', score=0)]\n"
     ]
    }
   ],
   "source": [
    "positionT.move(Move(11,20,'',0))\n",
    "pretty_print(positionT.board)\n",
    "print(positionT.ordered_moves())"
   ]
  },
  {
   "cell_type": "code",
   "execution_count": 623,
   "id": "26664bbd",
   "metadata": {},
   "outputs": [
    {
     "name": "stdout",
     "output_type": "stream",
     "text": [
      "♜♞.♚.♝..\n",
      "♟♟...♟♟.\n",
      "♝.......\n",
      "........\n",
      "..♟.....\n",
      ".♙..♙...\n",
      "♙.♙...♙♙\n",
      "♖♘♗..♔..\n",
      "[Move(i=17, j=26, prom='', score=1), Move(i=1, j=18, prom='', score=0), Move(i=1, j=11, prom='', score=0), Move(i=1, j=16, prom='', score=0), Move(i=2, j=11, prom='', score=0), Move(i=2, j=9, prom='', score=0), Move(i=2, j=16, prom='', score=0), Move(i=5, j=4, prom='', score=0), Move(i=5, j=13, prom='', score=0), Move(i=5, j=12, prom='', score=0), Move(i=5, j=6, prom='', score=0), Move(i=8, j=16, prom='', score=0), Move(i=8, j=24, prom='', score=0), Move(i=10, j=18, prom='', score=0), Move(i=14, j=22, prom='', score=0), Move(i=14, j=30, prom='', score=0), Move(i=15, j=23, prom='', score=0), Move(i=15, j=31, prom='', score=0), Move(i=17, j=25, prom='', score=0), Move(i=20, j=28, prom='', score=0)]\n"
     ]
    }
   ],
   "source": [
    "positionT.move(Move(28,37,'',0))\n",
    "pretty_print(positionT.board)\n",
    "print(positionT.ordered_moves())"
   ]
  },
  {
   "cell_type": "markdown",
   "id": "142c86c7",
   "metadata": {},
   "source": [
    "### A game"
   ]
  },
  {
   "cell_type": "code",
   "execution_count": 811,
   "id": "158ef31f",
   "metadata": {},
   "outputs": [
    {
     "name": "stdout",
     "output_type": "stream",
     "text": [
      "♜♞♝♛♚♝♞♜\n",
      "♟♟♟♟♟♟♟♟\n",
      "........\n",
      "........\n",
      "........\n",
      "........\n",
      "♙♙♙♙♙♙♙♙\n",
      "♖♘♗♕♔♗♘♖\n",
      "♜♞♝♚♛♝♞♜\n",
      "♟.♟♟♟♟♟♟\n",
      ".♟......\n",
      "........\n",
      "........\n",
      "........\n",
      "♙♙♙♙♙♙♙♙\n",
      "♖♘♗♔♕♗♘♖\n"
     ]
    }
   ],
   "source": [
    "p1 = fen_to_position('rnbqkbnr/pppppppp/8/8/8/8/PPPPPPPP/RNBQKBNR w KQkq - 0 1')\n",
    "pretty_print(p1.board)\n",
    "pretty_print(p1.move(Move(14, 22, '',0)).board)"
   ]
  },
  {
   "cell_type": "code",
   "execution_count": 812,
   "id": "4912e61c",
   "metadata": {},
   "outputs": [
    {
     "name": "stdout",
     "output_type": "stream",
     "text": [
      "♜♞♝♚♛♝♞♜\n",
      "♟.♟♟♟♟♟♟\n",
      ".♟......\n",
      "........\n",
      "........\n",
      "........\n",
      "♙♙♙♙♙♙♙♙\n",
      "♖♘♗♔♕♗♘♖\n",
      "['Time taken:', 0.2939901351928711, 'seconds', 'Best move: ', Move(i=1, j=18, prom='', score=0), 'Evaluation: ', 0]\n"
     ]
    }
   ],
   "source": [
    "pretty_print(p1.board)\n",
    "print(Engine.Search(p1,True,2))"
   ]
  },
  {
   "cell_type": "code",
   "execution_count": 813,
   "id": "304b39eb",
   "metadata": {},
   "outputs": [
    {
     "name": "stdout",
     "output_type": "stream",
     "text": [
      "♜.♝♛♚♝♞♜\n",
      "♟♟♟♟♟♟♟♟\n",
      "..♞.....\n",
      "........\n",
      "........\n",
      "......♙.\n",
      "♙♙♙♙♙♙.♙\n",
      "♖♘♗♕♔♗♘♖\n"
     ]
    }
   ],
   "source": [
    "p1.move(Move(6,21,'',0))\n",
    "pretty_print(p1.board)"
   ]
  },
  {
   "cell_type": "code",
   "execution_count": 814,
   "id": "4a042bdc",
   "metadata": {},
   "outputs": [
    {
     "name": "stdout",
     "output_type": "stream",
     "text": [
      "['Time taken:', 0.3251171112060547, 'seconds', 'Best move: ', Move(i=1, j=18, prom='', score=0), 'Evaluation: ', 0]\n"
     ]
    }
   ],
   "source": [
    "p1.move(Move(9,17,'',0))\n",
    "print(Engine.Search(p1,True,2))"
   ]
  },
  {
   "cell_type": "code",
   "execution_count": 815,
   "id": "1559a6eb",
   "metadata": {},
   "outputs": [
    {
     "name": "stdout",
     "output_type": "stream",
     "text": [
      "♜.♝♛♚♝.♜\n",
      "♟♟♟♟♟♟♟♟\n",
      "..♞....♞\n",
      "........\n",
      "........\n",
      ".♙....♙.\n",
      "♙.♙♙♙♙.♙\n",
      "♖♘♗♕♔♗♘♖\n"
     ]
    }
   ],
   "source": [
    "p1.move(Move(1,16,'',0))\n",
    "pretty_print(p1.board)"
   ]
  },
  {
   "cell_type": "code",
   "execution_count": 816,
   "id": "9557b1a9",
   "metadata": {},
   "outputs": [
    {
     "name": "stdout",
     "output_type": "stream",
     "text": [
      "♜♞♝♚♛♝♞♜\n",
      "♟.♟♟♟♟..\n",
      ".♟....♟♟\n",
      "........\n",
      "........\n",
      "♘....♘..\n",
      "♙♙♙♙♙♙♙♙\n",
      "♖.♗♔♕♗.♖\n"
     ]
    }
   ],
   "source": [
    "p1.move(Move(8,16,'',0))\n",
    "pretty_print(p1.board)"
   ]
  },
  {
   "cell_type": "code",
   "execution_count": 817,
   "id": "ece82016",
   "metadata": {},
   "outputs": [
    {
     "name": "stdout",
     "output_type": "stream",
     "text": [
      "['Time taken:', 0.30702996253967285, 'seconds', 'Best move: ', Move(i=0, j=1, prom='', score=0), 'Evaluation: ', 0]\n"
     ]
    }
   ],
   "source": [
    "print(Engine.Search(p1,True,2))"
   ]
  },
  {
   "cell_type": "code",
   "execution_count": 818,
   "id": "e6c772d3",
   "metadata": {},
   "outputs": [
    {
     "name": "stdout",
     "output_type": "stream",
     "text": [
      ".♜♝♛♚♝.♜\n",
      "♟♟♟♟♟♟♟♟\n",
      "..♞....♞\n",
      "........\n",
      "........\n",
      "♙♙....♙.\n",
      "..♙♙♙♙.♙\n",
      "♖♘♗♕♔♗♘♖\n"
     ]
    }
   ],
   "source": [
    "p1.move(Move(7,6,'',0))\n",
    "pretty_print(p1.board)"
   ]
  },
  {
   "cell_type": "code",
   "execution_count": 819,
   "id": "c0626932",
   "metadata": {},
   "outputs": [
    {
     "name": "stdout",
     "output_type": "stream",
     "text": [
      "♜♞♝♚♛♝♞♜\n",
      "♟.♟♟♟♟..\n",
      ".♟.....♟\n",
      "......♟.\n",
      "........\n",
      "♘....♘..\n",
      "♙♙♙♙♙♙♙♙\n",
      "♖.♗♔♕♗♖.\n"
     ]
    }
   ],
   "source": [
    "p1.move(Move(17,25,'',0))\n",
    "pretty_print(p1.board)"
   ]
  },
  {
   "cell_type": "code",
   "execution_count": 820,
   "id": "5af04b15",
   "metadata": {},
   "outputs": [
    {
     "name": "stdout",
     "output_type": "stream",
     "text": [
      "['Time taken:', 0.5141639709472656, 'seconds', 'Best move: ', Move(i=0, j=1, prom='', score=0), 'Evaluation: ', 0]\n"
     ]
    }
   ],
   "source": [
    "print(Engine.Search(p1,True,2))"
   ]
  },
  {
   "cell_type": "code",
   "execution_count": 821,
   "id": "c7c54645",
   "metadata": {},
   "outputs": [
    {
     "name": "stdout",
     "output_type": "stream",
     "text": [
      ".♜♝♛♚♝♜.\n",
      "♟♟♟♟♟♟♟♟\n",
      "..♞....♞\n",
      "........\n",
      ".♙......\n",
      "♙.....♙.\n",
      "..♙♙♙♙.♙\n",
      "♖♘♗♕♔♗♘♖\n"
     ]
    }
   ],
   "source": [
    "p1.move(Move(0,1,'',0))\n",
    "pretty_print(p1.board)"
   ]
  },
  {
   "cell_type": "code",
   "execution_count": 822,
   "id": "a439d734",
   "metadata": {},
   "outputs": [
    {
     "name": "stdout",
     "output_type": "stream",
     "text": [
      "♜♞♝♚♛♝.♜\n",
      "♟.♟♟♟♟..\n",
      ".♟...♞.♟\n",
      "......♟.\n",
      "........\n",
      "♘....♘..\n",
      "♙♙♙♙♙♙♙♙\n",
      ".♖♗♔♕♗♖.\n"
     ]
    }
   ],
   "source": [
    "p1.move(Move(1,18,'',0))\n",
    "pretty_print(p1.board)"
   ]
  },
  {
   "cell_type": "code",
   "execution_count": 823,
   "id": "5d9a8c04",
   "metadata": {},
   "outputs": [
    {
     "name": "stdout",
     "output_type": "stream",
     "text": [
      "['Time taken:', 0.5940768718719482, 'seconds', 'Best move: ', Move(i=1, j=0, prom='', score=0), 'Evaluation: ', 0]\n"
     ]
    }
   ],
   "source": [
    "print(Engine.Search(p1,True,2))"
   ]
  },
  {
   "cell_type": "code",
   "execution_count": 824,
   "id": "40303e88",
   "metadata": {},
   "outputs": [
    {
     "name": "stdout",
     "output_type": "stream",
     "text": [
      "♜.♝♛♚♝♜.\n",
      "♟♟♟♟♟♟♟♟\n",
      "..♞....♞\n",
      "........\n",
      ".♙......\n",
      "♙.♘...♙.\n",
      "..♙♙♙♙.♙\n",
      "♖.♗♕♔♗♘♖\n"
     ]
    }
   ],
   "source": [
    "p1.move(Move(6,7,'',0))\n",
    "pretty_print(p1.board)"
   ]
  },
  {
   "cell_type": "code",
   "execution_count": 825,
   "id": "d9d8b8d1",
   "metadata": {},
   "outputs": [
    {
     "name": "stdout",
     "output_type": "stream",
     "text": [
      "♜♞♝♚♛♝.♜\n",
      "♟.♟♟♟♟..\n",
      ".♟.....♟\n",
      "...♞..♟.\n",
      "........\n",
      "♘....♘..\n",
      "♙♙♙♙♙♙♙♙\n",
      ".♖♗♔♕♗.♖\n"
     ]
    }
   ],
   "source": [
    "p1.move(Move(18,28,'',0))\n",
    "pretty_print(p1.board)"
   ]
  },
  {
   "cell_type": "code",
   "execution_count": 826,
   "id": "5128b2d0",
   "metadata": {},
   "outputs": [
    {
     "name": "stdout",
     "output_type": "stream",
     "text": [
      "['Time taken:', 1.492875099182129, 'seconds', 'Best move: ', Move(i=1, j=0, prom='', score=0), 'Evaluation: ', 0]\n"
     ]
    }
   ],
   "source": [
    "print(Engine.Search(p1,True,2))"
   ]
  },
  {
   "cell_type": "code",
   "execution_count": 827,
   "id": "57d45a7e",
   "metadata": {},
   "outputs": [
    {
     "name": "stdout",
     "output_type": "stream",
     "text": [
      "♜.♝♛♚♝♜.\n",
      "♟.♟♟♟♟♟♟\n",
      "..♞....♞\n",
      ".♟......\n",
      ".♙..♘...\n",
      "♙.....♙.\n",
      "..♙♙♙♙.♙\n",
      "♖.♗♕♔♗♘♖\n"
     ]
    }
   ],
   "source": [
    "p1.move(Move(14,30,'',0))\n",
    "pretty_print(p1.board)"
   ]
  },
  {
   "cell_type": "code",
   "execution_count": 828,
   "id": "6c121cce",
   "metadata": {},
   "outputs": [
    {
     "name": "stdout",
     "output_type": "stream",
     "text": [
      "♜♞♝♚♛♝.♜\n",
      "..♟♟♟♟..\n",
      ".♟.....♟\n",
      "♟..♞..♟.\n",
      "......♙.\n",
      "♘....♘..\n",
      "♙♙♙♙♙♙.♙\n",
      ".♖♗♔♕♗.♖\n"
     ]
    }
   ],
   "source": [
    "p1.move(Move(15,31,'',0))\n",
    "pretty_print(p1.board)"
   ]
  },
  {
   "cell_type": "code",
   "execution_count": 829,
   "id": "6969c25f",
   "metadata": {},
   "outputs": [
    {
     "name": "stdout",
     "output_type": "stream",
     "text": [
      "['Time taken:', 1.5916788578033447, 'seconds', 'Best move: ', Move(i=1, j=0, prom='', score=0), 'Evaluation: ', 0]\n"
     ]
    }
   ],
   "source": [
    "print(Engine.Search(p1,True,2))"
   ]
  },
  {
   "cell_type": "code",
   "execution_count": 830,
   "id": "c9a979c4",
   "metadata": {},
   "outputs": [
    {
     "name": "stdout",
     "output_type": "stream",
     "text": [
      "♜..♛♚♝♜.\n",
      "♟.♟♟♟♟♟♟\n",
      "♝.♞....♞\n",
      ".♟......\n",
      ".♙..♘..♙\n",
      "♙.....♙.\n",
      "..♙♙♙♙..\n",
      "♖.♗♕♔♗♘♖\n"
     ]
    }
   ],
   "source": [
    "p1.move(Move(5,23,'',0))\n",
    "pretty_print(p1.board)"
   ]
  },
  {
   "cell_type": "code",
   "execution_count": 831,
   "id": "bca3bb3d",
   "metadata": {},
   "outputs": [
    {
     "name": "stdout",
     "output_type": "stream",
     "text": [
      "♜♞♝♚♛♝.♜\n",
      "..♟♟♟♟..\n",
      ".♟.....♟\n",
      "♟.....♟.\n",
      ".....♞♙.\n",
      "♘....♘.♗\n",
      "♙♙♙♙♙♙.♙\n",
      ".♖♗♔♕..♖\n"
     ]
    }
   ],
   "source": [
    "p1.move(Move(28,34,'',0))\n",
    "pretty_print(p1.board)"
   ]
  },
  {
   "cell_type": "code",
   "execution_count": 832,
   "id": "c9b15ac7",
   "metadata": {},
   "outputs": [
    {
     "name": "stdout",
     "output_type": "stream",
     "text": [
      "['Time taken:', 8.90531611442566, 'seconds', 'Best move: ', Move(i=4, j=5, prom='', score=0), 'Evaluation: ', 0]\n"
     ]
    }
   ],
   "source": [
    "print(Engine.Search(p1,True,3))"
   ]
  },
  {
   "cell_type": "code",
   "execution_count": 833,
   "id": "9312583d",
   "metadata": {},
   "outputs": [
    {
     "name": "stdout",
     "output_type": "stream",
     "text": [
      "♜.♛.♚♝♜.\n",
      "♟.♟♟♟♟♟♟\n",
      "♝.♞....♞\n",
      ".♟♘.....\n",
      ".♙.....♙\n",
      "♙.....♙.\n",
      "..♙♙♙♙..\n",
      "♖.♗♕♔♗♘♖\n"
     ]
    }
   ],
   "source": [
    "p1.move(Move(4,5,'',0))\n",
    "pretty_print(p1.board)"
   ]
  },
  {
   "cell_type": "code",
   "execution_count": 834,
   "id": "1e98c4d0",
   "metadata": {},
   "outputs": [
    {
     "name": "stdout",
     "output_type": "stream",
     "text": [
      "♜♞♝♚♛♝.♜\n",
      "..♟♟♟♟..\n",
      ".♟.....♟\n",
      "♟.....♟.\n",
      "......♙.\n",
      "♘....♘.♞\n",
      "♙♙♙♙♙♙.♙\n",
      ".♖♗♔.♕.♖\n"
     ]
    }
   ],
   "source": [
    "p1.move(Move(34,40,'',0))\n",
    "pretty_print(p1.board)"
   ]
  },
  {
   "cell_type": "code",
   "execution_count": 835,
   "id": "8ada2b3e",
   "metadata": {},
   "outputs": [
    {
     "name": "stdout",
     "output_type": "stream",
     "text": [
      "['Time taken:', 0.36885809898376465, 'seconds', 'Best move: ', Move(i=5, j=23, prom='', score=2), 'Evaluation: ', 0]\n"
     ]
    }
   ],
   "source": [
    "print(Engine.Search(p1,True,2))"
   ]
  },
  {
   "cell_type": "code",
   "execution_count": 836,
   "id": "cd821c5a",
   "metadata": {},
   "outputs": [
    {
     "name": "stdout",
     "output_type": "stream",
     "text": [
      "♜...♚♝♜.\n",
      "♟.♟♟♟♟♟♟\n",
      "♛.♞....♞\n",
      ".♟......\n",
      ".♙.....♙\n",
      "♙.....♙.\n",
      "..♙♙♙♙..\n",
      "♖.♗♕♔♗♘♖\n"
     ]
    }
   ],
   "source": [
    "p1.move(Move(5,23,'',0))\n",
    "pretty_print(p1.board)"
   ]
  },
  {
   "cell_type": "code",
   "execution_count": 794,
   "id": "bc45eb83",
   "metadata": {},
   "outputs": [
    {
     "name": "stdout",
     "output_type": "stream",
     "text": [
      "♜♞.♚♛♝.♜\n",
      "..♟♟♟♟..\n",
      "♝♟.....♟\n",
      "♟.....♟.\n",
      "......♙.\n",
      "♘......♘\n",
      "♙♙♙♙♙♙.♙\n",
      ".♖♗♔♕..♖\n"
     ]
    }
   ],
   "source": [
    "p1.move(Move(5,23,'',0))\n",
    "pretty_print(p1.board)"
   ]
  },
  {
   "cell_type": "code",
   "execution_count": 795,
   "id": "0224e908",
   "metadata": {},
   "outputs": [
    {
     "name": "stdout",
     "output_type": "stream",
     "text": [
      "['Time taken:', 0.7454116344451904, 'seconds', 'Best move: ', Move(i=1, j=0, prom='', score=0), 'Evaluation: ', 0]\n"
     ]
    }
   ],
   "source": [
    "print(Engine.Search(p1,True,2))"
   ]
  },
  {
   "cell_type": "code",
   "execution_count": 796,
   "id": "716372b2",
   "metadata": {},
   "outputs": [
    {
     "name": "stdout",
     "output_type": "stream",
     "text": [
      "♜..♛♚♝♜.\n",
      "♟.♟.♟♟♟♟\n",
      "♞..♟...♞\n",
      ".♟......\n",
      ".♙.....♙\n",
      "♙.....♙♗\n",
      "..♙♙♙♙..\n",
      "♖.♗♕♔.♘♖\n"
     ]
    }
   ],
   "source": [
    "p1.move(Move(12,20,'',0))\n",
    "pretty_print(p1.board)"
   ]
  },
  {
   "cell_type": "code",
   "execution_count": 797,
   "id": "9b2f8020",
   "metadata": {},
   "outputs": [
    {
     "name": "stdout",
     "output_type": "stream",
     "text": [
      "♜..♚♛♝.♜\n",
      "..♟♟♟♟..\n",
      "♝♟♞....♟\n",
      "♟.....♟.\n",
      "......♙.\n",
      "♘...♙..♘\n",
      "♙♙♙♙.♙.♙\n",
      ".♖♗♔♕..♖\n"
     ]
    }
   ],
   "source": [
    "p1.move(Move(6,21,'',0))\n",
    "pretty_print(p1.board)"
   ]
  },
  {
   "cell_type": "code",
   "execution_count": 798,
   "id": "684b4b5d",
   "metadata": {},
   "outputs": [
    {
     "name": "stdout",
     "output_type": "stream",
     "text": [
      "['Time taken:', 13.601054906845093, 'seconds', 'Best move: ', Move(i=9, j=25, prom='', score=0), 'Evaluation: ', 100]\n"
     ]
    }
   ],
   "source": [
    "print(Engine.Search(p1,True,3))"
   ]
  },
  {
   "cell_type": "code",
   "execution_count": 799,
   "id": "f5523ad1",
   "metadata": {},
   "outputs": [
    {
     "name": "stdout",
     "output_type": "stream",
     "text": [
      "♜♛..♚♝♜.\n",
      "♟.♟.♟♟♟♟\n",
      "♞..♟...♞\n",
      ".♟......\n",
      ".♙.....♙\n",
      "♙....♘♙♗\n",
      "..♙♙♙♙..\n",
      "♖.♗♕♔..♖\n"
     ]
    }
   ],
   "source": [
    "p1.move(Move(4,6,'',0))\n",
    "pretty_print(p1.board)"
   ]
  },
  {
   "cell_type": "code",
   "execution_count": 800,
   "id": "01b40e25",
   "metadata": {},
   "outputs": [
    {
     "name": "stdout",
     "output_type": "stream",
     "text": [
      "♜..♚♛..♜\n",
      "..♟♟♟♟♝.\n",
      "♝♟♞....♟\n",
      "♟.....♟.\n",
      "......♙.\n",
      "♘...♙..♘\n",
      "♙♙♙♙.♙.♙\n",
      ".♖♗♔..♕♖\n"
     ]
    }
   ],
   "source": [
    "p1.move(Move(2,9,'',0))\n",
    "pretty_print(p1.board)"
   ]
  },
  {
   "cell_type": "code",
   "execution_count": 801,
   "id": "c0753d50",
   "metadata": {},
   "outputs": [
    {
     "name": "stdout",
     "output_type": "stream",
     "text": [
      "['Time taken:', 106.63696098327637, 'seconds', 'Best move: ', Move(i=11, j=27, prom='', score=0), 'Evaluation: ', 0]\n"
     ]
    }
   ],
   "source": [
    "print(Engine.Search(p1,True,4))"
   ]
  },
  {
   "cell_type": "code",
   "execution_count": 802,
   "id": "9d89f4c6",
   "metadata": {},
   "outputs": [
    {
     "name": "stdout",
     "output_type": "stream",
     "text": [
      "♜♛..♚♝.♜\n",
      "♟.♟.♟♟♟♟\n",
      "♞..♟...♞\n",
      ".♟......\n",
      ".♙.....♙\n",
      "♙....♘♙♗\n",
      ".♗♙♙♙♙..\n",
      "♖..♕♔..♖\n"
     ]
    }
   ],
   "source": [
    "p1.move(Move(1,0,'',0))\n",
    "pretty_print(p1.board)"
   ]
  },
  {
   "cell_type": "code",
   "execution_count": 803,
   "id": "cd6c0cf4",
   "metadata": {},
   "outputs": [
    {
     "name": "stdout",
     "output_type": "stream",
     "text": [
      "♜..♚♛..♜\n",
      "..♟.♟♟♝.\n",
      "♝♟♞....♟\n",
      "♟..♟..♟.\n",
      "......♙.\n",
      "♘...♙..♘\n",
      "♙♙♙♙.♙.♙\n",
      "♖.♗♔..♕♖\n"
     ]
    }
   ],
   "source": [
    "p1.move(Move(12,28,'',0))\n",
    "pretty_print(p1.board)"
   ]
  },
  {
   "cell_type": "code",
   "execution_count": 804,
   "id": "4d941b49",
   "metadata": {},
   "outputs": [
    {
     "name": "stdout",
     "output_type": "stream",
     "text": [
      "['Time taken:', 10.423593997955322, 'seconds', 'Best move: ', Move(i=0, j=1, prom='', score=0), 'Evaluation: ', 0]\n"
     ]
    }
   ],
   "source": [
    "print(Engine.Search(p1,True,3))"
   ]
  },
  {
   "cell_type": "code",
   "execution_count": 805,
   "id": "673fc51f",
   "metadata": {},
   "outputs": [
    {
     "name": "stdout",
     "output_type": "stream",
     "text": [
      "♜♛..♚♝♜.\n",
      "♟.♟.♟♟♟♟\n",
      "♞..♟...♞\n",
      ".♟......\n",
      ".♙..♙..♙\n",
      "♙....♘♙♗\n",
      ".♗♙♙.♙..\n",
      "♖..♕♔..♖\n"
     ]
    }
   ],
   "source": [
    "p1.move(Move(0,1,'',0))\n",
    "pretty_print(p1.board)"
   ]
  },
  {
   "cell_type": "code",
   "execution_count": 806,
   "id": "ccb72114",
   "metadata": {},
   "outputs": [
    {
     "name": "stdout",
     "output_type": "stream",
     "text": [
      "♜..♚♛..♜\n",
      "..♟..♟♝.\n",
      "♝♟♞....♟\n",
      "♟..♟♟.♟.\n",
      "......♙.\n",
      "♘...♙..♘\n",
      "♙♙♙♙.♙.♙\n",
      ".♖♗♔..♕♖\n"
     ]
    }
   ],
   "source": [
    "p1.move(Move(11,27,'',0))\n",
    "pretty_print(p1.board)"
   ]
  },
  {
   "cell_type": "code",
   "execution_count": 807,
   "id": "683d9979",
   "metadata": {},
   "outputs": [
    {
     "name": "stdout",
     "output_type": "stream",
     "text": [
      "['Time taken:', 10.924126863479614, 'seconds', 'Best move: ', Move(i=1, j=0, prom='', score=0), 'Evaluation: ', 0]\n"
     ]
    }
   ],
   "source": [
    "print(Engine.Search(p1,True,3))"
   ]
  },
  {
   "cell_type": "code",
   "execution_count": 808,
   "id": "67d04258",
   "metadata": {},
   "outputs": [
    {
     "name": "stdout",
     "output_type": "stream",
     "text": [
      "♜♛..♚♝.♜\n",
      "♟.♟.♟♟♟♟\n",
      "♞..♟...♞\n",
      ".♟......\n",
      ".♙.♙♙..♙\n",
      "♙....♘♙♗\n",
      ".♗♙..♙..\n",
      "♖..♕♔..♖\n"
     ]
    }
   ],
   "source": [
    "p1.move(Move(1,0,'',0))\n",
    "pretty_print(p1.board)"
   ]
  },
  {
   "cell_type": "code",
   "execution_count": 809,
   "id": "44c3039f",
   "metadata": {},
   "outputs": [
    {
     "name": "stdout",
     "output_type": "stream",
     "text": [
      "♜..♚♛♝.♜\n",
      "..♟..♟..\n",
      "♝♟♞....♟\n",
      "♟..♟♟.♟.\n",
      "......♙.\n",
      "♘...♙..♘\n",
      "♙♙♙♙.♙.♙\n",
      "♖.♗♔..♕♖\n"
     ]
    }
   ],
   "source": [
    "p1.move(Move(9,2,'',0))\n",
    "pretty_print(p1.board)"
   ]
  },
  {
   "cell_type": "code",
   "execution_count": 810,
   "id": "c80c7004",
   "metadata": {},
   "outputs": [
    {
     "name": "stdout",
     "output_type": "stream",
     "text": [
      "['Time taken:', 228.79460191726685, 'seconds', 'Best move: ', Move(i=0, j=1, prom='', score=0), 'Evaluation: ', -100]\n"
     ]
    }
   ],
   "source": [
    "print(Engine.Search(p1,True,4))"
   ]
  },
  {
   "cell_type": "markdown",
   "id": "c936e41d",
   "metadata": {},
   "source": [
    "## UCI"
   ]
  },
  {
   "cell_type": "code",
   "execution_count": null,
   "id": "8f82e845",
   "metadata": {},
   "outputs": [],
   "source": []
  },
  {
   "cell_type": "markdown",
   "id": "2091e34c",
   "metadata": {},
   "source": [
    "Now I'm going to create a function that using the position encoder, also gets the history matrices and repetition matrices."
   ]
  },
  {
   "cell_type": "code",
   "execution_count": null,
   "id": "4ea0b907",
   "metadata": {},
   "outputs": [],
   "source": [
    "def max_string_count(str_list):\n",
    "    counts = {}\n",
    "    for s in str_list:\n",
    "        if s in counts:\n",
    "            counts[s] += 1\n",
    "        else:\n",
    "            counts[s] = 1\n",
    "    return max(counts.values())\n",
    "# I HAVE CHECKED THAT THIS ONE IS RUNNING CORRECTLY"
   ]
  },
  {
   "cell_type": "code",
   "execution_count": null,
   "id": "8853d632",
   "metadata": {},
   "outputs": [],
   "source": [
    "def game_encoder(pgn):\n",
    "    hist_1 = [] #most recent position\n",
    "    hist_2 = []\n",
    "    hist_3 = []\n",
    "    hist_4 = []\n",
    "    hist_5 = []\n",
    "    hist_6 = [] #6th most recent position\n",
    "    for i in range(len(encode_position('rnbqkbnr/pppppppp/8/8/8/1P6/P1PPPPPP/RNBQKBNR b KQkq - 0 1'))):\n",
    "        hist_1.append(np.zeros((8,8)))\n",
    "        hist_2.append(np.zeros((8,8)))\n",
    "        hist_3.append(np.zeros((8,8)))\n",
    "        hist_4.append(np.zeros((8,8)))\n",
    "        hist_5.append(np.zeros((8,8)))\n",
    "        hist_6.append(np.zeros((8,8)))\n",
    "    histories = [hist_1, hist_2, hist_3, hist_4, hist_5, hist_6]\n",
    "    Fens = pgn_to_fenslist(pgn)\n",
    "    for fen in Fens:\n",
    "        histories[5] = histories[4]\n",
    "        histories[4] = histories[3]\n",
    "        histories[3] = histories[2]\n",
    "        histories[2] = histories[1]\n",
    "        histories[1] = histories[0]\n",
    "        histories[0] = encode_position(fen)\n",
    "    matrices_position = encode_position(Fens[-1])\n",
    "    r = max_string_count(Fens)-1\n",
    "    if r == 0:\n",
    "        R_1 = np.zeros((8,8))\n",
    "        R_2 = np.zeros((8,8))\n",
    "    if r == 1:\n",
    "        R_1 = np.ones((8,8))\n",
    "        R_2 = np.zeros((8,8))\n",
    "    else:\n",
    "        R_1 = np.zeros((8,8))\n",
    "        R_2 = np.ones((8,8))\n",
    "    klk = [matrices_position, R_1, R_2, hist_1, hist_2, hist_3, hist_4, hist_5, hist_6]\n",
    "    flat_list = [item for sublist in klk for item in sublist]\n",
    "    return flat_list"
   ]
  },
  {
   "cell_type": "code",
   "execution_count": null,
   "id": "dc02e87a",
   "metadata": {},
   "outputs": [],
   "source": [
    "def game_encoder_for_training(pgn):\n",
    "    hist_1 = [] #most recent position\n",
    "    hist_2 = []\n",
    "    hist_3 = []\n",
    "    hist_4 = []\n",
    "    hist_5 = []\n",
    "    hist_6 = [] #6th most recent position\n",
    "    for i in range(len(encode_position('rnbqkbnr/pppppppp/8/8/8/1P6/P1PPPPPP/RNBQKBNR b KQkq - 0 1'))):\n",
    "        hist_1.append(np.zeros((8,8)))\n",
    "        hist_2.append(np.zeros((8,8)))\n",
    "        hist_3.append(np.zeros((8,8)))\n",
    "        hist_4.append(np.zeros((8,8)))\n",
    "        hist_5.append(np.zeros((8,8)))\n",
    "        hist_6.append(np.zeros((8,8)))\n",
    "    histories = [hist_1, hist_2, hist_3, hist_4, hist_5, hist_6]\n",
    "    Dict = pgneval_to_dict(pgn)\n",
    "    for fen in Dict.keys():\n",
    "        histories[5] = histories[4]\n",
    "        histories[4] = histories[3]\n",
    "        histories[3] = histories[2]\n",
    "        histories[2] = histories[1]\n",
    "        histories[1] = histories[0]\n",
    "        histories[0] = encode_position(fen)\n",
    "    matrices_position = encode_position(list(Dict.keys())[-1])\n",
    "    r = max_string_count(list(Dict.keys()))-1\n",
    "    if r == 0:\n",
    "        R_1 = np.zeros((8,8))\n",
    "        R_2 = np.zeros((8,8))\n",
    "    if r == 1:\n",
    "        R_1 = np.ones((8,8))\n",
    "        R_2 = np.zeros((8,8))\n",
    "    else:\n",
    "        R_1 = np.zeros((8,8))\n",
    "        R_2 = np.ones((8,8))\n",
    "    \n",
    "    klk = [encode_position(list(Dict.keys())[-1]), R_1, R_2, hist_1, hist_2, hist_3, hist_4, hist_5, hist_6]\n",
    "    flat_list = [item for sublist in klk for item in sublist]\n",
    "    return flat_list"
   ]
  },
  {
   "cell_type": "code",
   "execution_count": null,
   "id": "bbcb2bab",
   "metadata": {},
   "outputs": [],
   "source": [
    "len(game_encoder('Carlsen - Martirosyan eval.pgn'))"
   ]
  },
  {
   "cell_type": "code",
   "execution_count": null,
   "id": "75fb4131",
   "metadata": {},
   "outputs": [],
   "source": [
    "len(game_encoder_for_training('Carlsen - Martirosyan eval.pgn'))"
   ]
  },
  {
   "cell_type": "code",
   "execution_count": null,
   "id": "164213fd",
   "metadata": {},
   "outputs": [],
   "source": []
  }
 ],
 "metadata": {
  "kernelspec": {
   "display_name": "Python 3 (ipykernel)",
   "language": "python",
   "name": "python3"
  },
  "language_info": {
   "codemirror_mode": {
    "name": "ipython",
    "version": 3
   },
   "file_extension": ".py",
   "mimetype": "text/x-python",
   "name": "python",
   "nbconvert_exporter": "python",
   "pygments_lexer": "ipython3",
   "version": "3.10.9"
  }
 },
 "nbformat": 4,
 "nbformat_minor": 5
}

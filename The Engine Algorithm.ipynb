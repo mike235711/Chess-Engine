{
 "cells": [
  {
   "cell_type": "markdown",
   "id": "e794826a",
   "metadata": {},
   "source": [
    "# The Engine Algorithm\n",
    "\n",
    "Here I will create the algorithm that decides which variations to play. I will be using a min max algorithm. This is basically an algorithm that skips variations that can't affect the algorithm.\n",
    "\n",
    "Lets assume we are playing as white. The idea is that in each step (turn for a player) the algorithm will either minimize the eval or maximize it. Variations can be seen as trees (with corresponding roots, nodes and leafs). Suppose we evaluate to depth = n, where it is blacks turn. The algorithm will start by evaluating all the leafs of one of the previous nodes, since it is black's turn we assume black will try to play the best move (minimize evaluation). Therefore from that set of leafs, the only relevant leaf is the one with minimum evaluation. However we will chose the node that has min(set of leafs for node) the maximum from all nodes. This means that when evaluating the leafs of the next node we can stop (and skip to the next set of leafs for another node) whenever we find a leaf whose evaluation is less than the minimum at that point between all the leafs evaluated.\n",
    "\n",
    "We can do this for each level, starting from the leafs of the tree upward toward the root."
   ]
  },
  {
   "cell_type": "code",
   "execution_count": 3,
   "id": "b366a0e0",
   "metadata": {},
   "outputs": [],
   "source": [
    "def alphaBeta (board, depth, alpha, beta, maximize, eval_func):\n",
    "    evaluation = eval_func()\n",
    "    if board.is_checkmate():\n",
    "        if board.turn == chess.WHITE:\n",
    "            return -float('inf')\n",
    "        else:\n",
    "            return float('inf')\n",
    "    if depth == 0:\n",
    "        return evaluation(board)\n",
    "    legals = board.legal_moves\n",
    "    if maximize:\n",
    "        bestVal = -float('inf')\n",
    "        for move in legals :\n",
    "            board.push(move)\n",
    "            bestVal = max(bestVal, alphaBeta(board, depth -1, alpha, beta, (not maximize)))\n",
    "            board.pop()\n",
    "            alpha = max(alpha, bestVal)\n",
    "            if alpha >= beta:\n",
    "                return bestVal\n",
    "        return bestVal\n",
    "    else:\n",
    "        bestVal = float('inf')\n",
    "        for move in legals:\n",
    "            board.push(move)\n",
    "            bestVal = min(bestVal, alphaBeta(board, depth-1, alpha, beta, (not maximize)))\n",
    "            board.pop()\n",
    "            beta = min(beta, bestVal)\n",
    "            if beta <= alpha:\n",
    "                return bestVal\n",
    "        return bestVal"
   ]
  },
  {
   "cell_type": "markdown",
   "id": "443726c0",
   "metadata": {},
   "source": [
    "There are several ways to improve the alpha-beta algorithm for chess:\n",
    "\n",
    "* Iterative Deepening: This technique involves running the alpha-beta search multiple times with increasing depth limits. It allows the program to quickly find a good move at lower depths, and then continue searching deeper if there is time remaining.\n",
    "\n",
    "* Transposition Tables: This technique involves storing previously computed evaluations in a hash table, so that the algorithm can avoid redundant evaluations. This can be particularly useful when searching the same position from different move orders.\n",
    "\n",
    "* Move Ordering: This technique involves ordering the moves so that the most promising moves are searched first. This can lead to pruning more branches and searching deeper in the remaining branches.\n",
    "\n",
    "* Quiescence Search: This technique involves extending the search depth for positions with captures and checks, as these are often critical in chess. This can help avoid the \"horizon effect\" where a position looks good at the current depth, but leads to a bad position in the next ply.\n",
    "\n",
    "* Null Move Pruning: This technique involves temporarily passing the turn to the opponent and then evaluating the position. If the evaluation is significantly worse than the current best score, then the move leading to that position is unlikely to be good, and the algorithm can skip searching that move.\n",
    "\n",
    "* Futility Pruning: This technique involves pruning branches where the evaluation is already significantly worse than the current best score. This can reduce the search depth and speed up the algorithm.\n",
    "\n",
    "These techniques can be combined to create a more powerful chess engine. However, implementing them can be complex and requires careful tuning to find the optimal performance."
   ]
  },
  {
   "cell_type": "code",
   "execution_count": null,
   "id": "d73c182e",
   "metadata": {},
   "outputs": [],
   "source": []
  }
 ],
 "metadata": {
  "kernelspec": {
   "display_name": "Python 3 (ipykernel)",
   "language": "python",
   "name": "python3"
  },
  "language_info": {
   "codemirror_mode": {
    "name": "ipython",
    "version": 3
   },
   "file_extension": ".py",
   "mimetype": "text/x-python",
   "name": "python",
   "nbconvert_exporter": "python",
   "pygments_lexer": "ipython3",
   "version": "3.9.13"
  }
 },
 "nbformat": 4,
 "nbformat_minor": 5
}

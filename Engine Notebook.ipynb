{
 "cells": [
  {
   "cell_type": "code",
   "execution_count": 1,
   "id": "b68431ad",
   "metadata": {},
   "outputs": [],
   "source": [
    "import Engine\n",
    "import chess\n",
    "import numpy as np\n",
    "import time"
   ]
  },
  {
   "cell_type": "markdown",
   "id": "4cc9b141",
   "metadata": {},
   "source": [
    "# The Search Algorithm\n",
    "\n",
    "Here I will create the algorithm that decides which variations to play. I will be using a min max algorithm. This is basically an algorithm that skips variations that can't affect the algorithm.\n",
    "\n",
    "Lets assume we are playing as white. The idea is that in each step (turn for a player) the algorithm will either minimize the eval or maximize it. Variations can be seen as trees (with corresponding roots, nodes and leafs). Suppose we evaluate to depth = n, where it is blacks turn. The algorithm will start by evaluating all the leafs of one of the previous nodes, since it is black's turn we assume black will try to play the best move (minimize evaluation). Therefore from that set of leafs, the only relevant leaf is the one with minimum evaluation. However we will chose the node that has min(set of leafs for node) the maximum from all nodes. This means that when evaluating the leafs of the next node we can stop (and skip to the next set of leafs for another node) whenever we find a leaf whose evaluation is less than the minimum at that point between all the leafs evaluated.\n",
    "\n",
    "We can do this for each level, starting from the leafs of the tree upward toward the root.\n",
    "\n",
    "\n",
    "THINGS To do:\n",
    "* Make engine think while it ins't its move (using the i's in alpha_beta algorithm) - **Done on algorithm, need to finish on engine.**\n",
    "* Use Pypy interpreter instead of CPython, since it is several magnitudes faster (except for numpy, so maybe we should avoid numpy).\n"
   ]
  },
  {
   "cell_type": "code",
   "execution_count": 2,
   "id": "1920475d",
   "metadata": {},
   "outputs": [
    {
     "name": "stdout",
     "output_type": "stream",
     "text": [
      "-5.984306335449219e-05\n",
      "-5.602836608886719e-05\n",
      "-4.38690185546875e-05\n",
      "-4.887580871582031e-05\n",
      "-7.104873657226562e-05\n"
     ]
    }
   ],
   "source": [
    "# Test mod 8 methods\n",
    "start_time = time.time()\n",
    "for i in range(64):\n",
    "    i % 8\n",
    "end_time = time.time()\n",
    "print(start_time-end_time)\n",
    "\n",
    "start_time = time.time()\n",
    "for i in range(64):\n",
    "    divmod(i,8)\n",
    "end_time = time.time()\n",
    "print(start_time-end_time)\n",
    "\n",
    "# Test mod 10 methods\n",
    "start_time = time.time()\n",
    "for i in range(64):\n",
    "    i%10\n",
    "end_time = time.time()\n",
    "print(start_time-end_time)\n",
    "\n",
    "start_time = time.time()\n",
    "for i in range(64):\n",
    "    divmod(i,10)\n",
    "end_time = time.time()\n",
    "print(start_time-end_time)\n",
    "\n",
    "start_time = time.time()\n",
    "for i in range(64):\n",
    "    int(str(i)[-1])\n",
    "end_time = time.time()\n",
    "print(start_time-end_time)"
   ]
  },
  {
   "cell_type": "markdown",
   "id": "4266d5d3",
   "metadata": {},
   "source": [
    "The fastest is i%10 however i%8 is also pretty fast, also it depends on the interpreter so it would be reasonable to try this with Pypy too. I will choose i%8, therefore my position will be a list of 64 elements. **Taking 100 has one further advantage, we are creating a 10 by 10 board and when checking if pieces are at the end of the board this is useful**. I will be dividing the board in 4 squares and precomputing the moves on one of the 4 by 4 squares say (a1, a4, d1,d4). And using the symmetries I will be able to precompute all possible moves."
   ]
  },
  {
   "cell_type": "code",
   "execution_count": 3,
   "id": "e5850086",
   "metadata": {},
   "outputs": [
    {
     "name": "stdout",
     "output_type": "stream",
     "text": [
      "Quadrant_h8: ['k', 'n', 'b', 'k', 'q', 'b', 'n', 'r', 'p', 'p', 'p', 'p', 'p', 'p', 'p', 'p', '0', '0', '0', '0', '0', 'm', '2', '0', '0', '0', '0', '0', '0', '0', '0', '0', '0', '0', '0', '0', '0', 'k', '0', '0', '0', '0', '0', '0', '0', '0', '0', '0', 'P', 'P', 'P', 'klk', 'P', 'r', 'P', 'P', 'R', 'N', 'B', 'K', 'Q', 'B', 'N', 'R']\n",
      "Quadrant_a8: ['r', 'n', 'b', 'q', 'k', 'b', 'n', 'k', 'p', 'p', 'p', 'p', 'p', 'p', 'p', 'p', '0', '2', 'm', '0', '0', '0', '0', '0', '0', '0', '0', '0', '0', '0', '0', '0', '0', '0', 'k', '0', '0', '0', '0', '0', '0', '0', '0', '0', '0', '0', '0', '0', 'P', 'P', 'r', 'P', 'klk', 'P', 'P', 'P', 'R', 'N', 'B', 'Q', 'K', 'B', 'N', 'R']\n",
      "Quadrant_h1: ['R', 'N', 'B', 'K', 'Q', 'B', 'N', 'R', 'P', 'P', 'P', 'klk', 'P', 'r', 'P', 'P', '0', '0', '0', '0', '0', '0', '0', '0', '0', '0', '0', '0', '0', 'k', '0', '0', '0', '0', '0', '0', '0', '0', '0', '0', '0', '0', '0', '0', '0', 'm', '2', '0', 'p', 'p', 'p', 'p', 'p', 'p', 'p', 'p', 'k', 'n', 'b', 'k', 'q', 'b', 'n', 'r']\n"
     ]
    }
   ],
   "source": [
    "board = [ 'R', 'N', 'B', 'Q', 'K', 'B', 'N', 'R',          \n",
    "         'P', 'P', 'r', 'P', 'klk', 'P', 'P', 'P',          \n",
    "         '0', '0', '0', '0', '0', '0', '0', '0',          \n",
    "         '0', '0', 'k', '0', '0', '0', '0', '0',       \n",
    "         '0', '0', '0', '0', '0', '0', '0', '0',          \n",
    "         '0', '2', 'm', '0', '0', '0', '0', '0',          \n",
    "         'p', 'p', 'p', 'p', 'p', 'p', 'p', 'p',          \n",
    "         'r', 'n', 'b', 'q', 'k', 'b', 'n', 'k' ]\n",
    "\n",
    "# Quadrant h8\n",
    "flipboard = list(reversed(board)) # Flip the board pieces horizontally\n",
    "flipsquarelist = list(reversed(range(64)))# correct\n",
    "flipsquare = flipsquarelist[3]\n",
    "print('Quadrant_h8:', flipboard) # Este esta hecho para h8\n",
    "\n",
    "\n",
    "# Quadrant a8\n",
    "flipboard = [square for row in [board[i:i+8] for i in range(0, 64, 8)][::-1] for square in row]\n",
    "flipsquarelist = [square for row in [list(range(64))[::-1][i:i+8][::-1] for i in range(0, 64, 8)] for square in row]\n",
    "flipsquare = flipsquarelist[3]\n",
    "print('Quadrant_a8:', flipboard)\n",
    "\n",
    "# Quadrant h1\n",
    "flipboard = [square for row in [board[i:i+8][::-1] for i in range(0, 64, 8)] for square in row] \n",
    "flipsquarelist = [square for row in [list(range(64))[i:i+8][::-1] for i in range(0, 64, 8)] for square in row]\n",
    "flipsquare = flipsquarelist[3]\n",
    "print('Quadrant_h1:', flipboard) # Este esta hecho para h1"
   ]
  },
  {
   "cell_type": "code",
   "execution_count": 4,
   "id": "e2f960d9",
   "metadata": {},
   "outputs": [],
   "source": [
    "def pretty_print(board):\n",
    "    # Create a list of rank labels (1 to 8) and file labels (a to h)\n",
    "    ranks = [str(i) for i in range(8, 0, -1)]\n",
    "    files = ['a', 'b', 'c', 'd', 'e', 'f', 'g', 'h']\n",
    "\n",
    "\n",
    "    # Print each rank of the board\n",
    "    for i in range(8):\n",
    "        rank = ''.join(str(board[(8-i-1) * 8 + j]) for j in range(8))\n",
    "        rank = rank.replace('0', '.')\n",
    "        rank = rank.replace('K', '♔')\n",
    "        rank = rank.replace('Q', '♕')\n",
    "        rank = rank.replace('R', '♖')\n",
    "        rank = rank.replace('B', '♗')\n",
    "        rank = rank.replace('N', '♘')\n",
    "        rank = rank.replace('P', '♙')\n",
    "        rank = rank.replace('k', '♚')\n",
    "        rank = rank.replace('q', '♛')\n",
    "        rank = rank.replace('r', '♜')\n",
    "        rank = rank.replace('b', '♝')\n",
    "        rank = rank.replace('n', '♞')\n",
    "        rank = rank.replace('p', '♟')\n",
    "        print(rank )\n",
    "\n",
    "    "
   ]
  },
  {
   "cell_type": "code",
   "execution_count": 5,
   "id": "7a9cf901",
   "metadata": {},
   "outputs": [],
   "source": [
    "def fen_to_position(fen):\n",
    "    board = ['0']*64\n",
    "    fen_parts = fen.split()\n",
    "    fen_board = fen_parts[0].split('/')\n",
    "    for i in range(len(fen_board)):\n",
    "        fen_row = fen_board[i]\n",
    "        j = 0\n",
    "        for c in fen_row:\n",
    "            if c.isdigit():\n",
    "                j += int(c)\n",
    "            else:\n",
    "                board[(7-i)*8+j] = c\n",
    "                j += 1\n",
    "    \n",
    "    en_passant = chess.SQUARE_NAMES.index(fen_parts[3]) if fen_parts[3] != '-' else -1\n",
    "    \n",
    "    white_castling_rights = [False]*2\n",
    "    if 'K' in fen_parts[2]:\n",
    "        white_castling_rights[0] = True\n",
    "    if 'Q' in fen_parts[2]:\n",
    "        white_castling_rights[1] = True\n",
    "    black_castling_rights = [False]*2\n",
    "    if 'k' in fen_parts[2]:\n",
    "        black_castling_rights[0] = True\n",
    "    if 'q' in fen_parts[2]:\n",
    "        black_castling_rights[1] = True\n",
    "    \n",
    "    turn = fen_parts[1] == 'w'\n",
    "    \n",
    "    return Engine.Position(board, en_passant, white_castling_rights, black_castling_rights, [], turn)\n"
   ]
  },
  {
   "cell_type": "code",
   "execution_count": 6,
   "id": "8bf0f66f",
   "metadata": {},
   "outputs": [],
   "source": [
    "def position_to_fen(position):\n",
    "    board = chess.Board()\n",
    "    board.set_board_fen(position.board_fen())\n",
    "    fen_parts = [\n",
    "        board.board_fen(),\n",
    "        'w' if position.turn else 'b',\n",
    "        ''.join(['K' if position.castling_rights[0] else '',\n",
    "                 'Q' if position.castling_rights[1] else '',\n",
    "                 'k' if position.castling_rights[2] else '',\n",
    "                 'q' if position.castling_rights[3] else '']),\n",
    "        chess.SQUARE_NAMES[position.en_passant] if position.en_passant != -1 else '-',\n",
    "        str(position.halfmove_clock),\n",
    "        str(position.fullmove_number)\n",
    "    ]\n",
    "    return ' '.join(fen_parts)"
   ]
  },
  {
   "cell_type": "markdown",
   "id": "b96079b9",
   "metadata": {},
   "source": [
    "### The Simple Algorithms\n",
    "\n",
    "I am creating two simple algorithms, one which runs with the python chess library (alpha_beta_from_fen) and the other with my move generator. My move generator appears to make the algorithm 2 times faster."
   ]
  },
  {
   "cell_type": "code",
   "execution_count": 7,
   "id": "fbe19a7c",
   "metadata": {},
   "outputs": [],
   "source": [
    "def alpha_beta_from_fen(fen, depth, alpha, beta, maximize, evaluate_position): \n",
    "    # maximize is a boolean variable (True if we want to maximize the evaluation (we are white))\n",
    "    # alpha is the current best evaluation for white, it will start at -infinity\n",
    "    # beta is the current best evaluation for black, it will start at +infinity\n",
    "    \n",
    "    board = chess.Board(fen = fen)\n",
    "    legal_moves = list(board.legal_moves)\n",
    "    \n",
    "    if depth == 0:\n",
    "        return evaluate_position(fen), []\n",
    "    \n",
    "    best_move = None\n",
    "    \n",
    "    if maximize:\n",
    "        value = -1000\n",
    "        for move in legal_moves:\n",
    "            board.push(move)\n",
    "            child_value = alpha_beta_from_fen(board.fen(), depth - 1, alpha, beta, False, evaluate_position)[0]\n",
    "            if child_value > value:\n",
    "                value = child_value\n",
    "                best_move = move\n",
    "            board.pop() # Unmake the last move\n",
    "            alpha = max(alpha, value)\n",
    "            if alpha >= beta:\n",
    "                break\n",
    "    else:\n",
    "        value = 1000\n",
    "        for move in legal_moves:\n",
    "            board.push(move)\n",
    "            child_value = alpha_beta_from_fen(board.fen(), depth - 1, alpha, beta, True, evaluate_position)[0]\n",
    "            if child_value < value:\n",
    "                value = child_value\n",
    "                best_move = move\n",
    "            board.pop() \n",
    "            beta = min(beta, value)\n",
    "            if beta <= alpha:\n",
    "                break\n",
    "    \n",
    "    return value, best_move"
   ]
  },
  {
   "cell_type": "code",
   "execution_count": 8,
   "id": "61d181a0",
   "metadata": {},
   "outputs": [],
   "source": [
    "def engine_fen(fen, is_maximizing_player, is_our_move, depth): # ¡¡¡ FIX AND ADD VARIATIONS!!!\n",
    "    # is_maximizing_player is set to True if we are white\n",
    "    # alpha is the current best evaluation for white, it will start at -infinity\n",
    "    # beta is the current best evaluation for black, it will start at +infinity\n",
    "    start_time = time.time()\n",
    "    best_move = None\n",
    "    board = chess.Board(fen)\n",
    "    legal_moves = list(board.legal_moves)\n",
    "\n",
    "    if is_our_move:\n",
    "        if is_maximizing_player:\n",
    "            alpha = -np.inf\n",
    "            beta = np.inf\n",
    "            best_value = -np.inf\n",
    "        else:\n",
    "            alpha = -np.inf\n",
    "            beta = np.inf\n",
    "            best_value = np.inf\n",
    "        \n",
    "        for move in legal_moves:\n",
    "            board.push(move)\n",
    "            new_fen = board.fen()\n",
    "            value = alpha_beta_from_fen(new_fen, depth - 1, alpha, beta, not is_maximizing_player, Engine.evaluate_position_from_fen)[0]\n",
    "            board.pop()\n",
    "\n",
    "            if is_maximizing_player and value > best_value:\n",
    "                best_move = move\n",
    "                best_value = value\n",
    "            elif is_maximizing_player==False and value < best_value:\n",
    "                best_move = move\n",
    "                best_value = value\n",
    "        end_time = time.time()\n",
    "        elapsed_time = end_time - start_time\n",
    "        return [\"Time taken:\", elapsed_time, \"seconds\", \"Best move: \", best_move, \"Evaluation: \", best_value]\n",
    "    else: # Now we make the engine think while it isn't it's turn\n",
    "        Dict = {}\n",
    "        for move in legal_moves:\n",
    "            board.push(move)\n",
    "            new_fen = board.fen()\n",
    "            best_move = None\n",
    "            Dict[move]=(engine(fen, is_maximizing_player, is_our_move, depth+1)[4], \n",
    "                        engine(fen, is_maximizing_player, is_our_move, depth+1)[6])\n",
    "        return(Dict) # This is a dictionary of the form {move: best response, evaluation}\n",
    "        "
   ]
  },
  {
   "cell_type": "code",
   "execution_count": 9,
   "id": "b64f7b6d",
   "metadata": {},
   "outputs": [
    {
     "data": {
      "text/plain": [
       "['Time taken:',\n",
       " 177.2241358757019,\n",
       " 'seconds',\n",
       " 'Best move: ',\n",
       " Move.from_uci('d4e5'),\n",
       " 'Evaluation: ',\n",
       " 400]"
      ]
     },
     "execution_count": 9,
     "metadata": {},
     "output_type": "execute_result"
    }
   ],
   "source": [
    "engine_fen('r2qkbnr/1bp2ppp/1pnp4/pB2p3/3PP3/2N2N2/PPP2PPP/R1BQ1RK1 w kq - 2 7', True, True, 5)"
   ]
  },
  {
   "cell_type": "markdown",
   "id": "8a944227",
   "metadata": {},
   "source": [
    "This is the best move, in a position where we are black and it is our move. For a search of depth 5, it takes 154 seconds which should be improved, it is finding the best move in a simple capture. Note that we are using a very simple evaluation function which will be faster than the true one."
   ]
  },
  {
   "cell_type": "code",
   "execution_count": 10,
   "id": "404a6cf4",
   "metadata": {},
   "outputs": [],
   "source": [
    "def alpha_beta_from_position(position, depth, alpha, beta, maximize):\n",
    "    # maximize is a boolean variable (True if we want to maximize the evaluation (we are moving))\n",
    "    # alpha is the current best evaluation for us, it will start at -infinity\n",
    "    # beta is the current best evaluation for opponent, it will start at +infinity\n",
    "    if depth == 0 and maximize:\n",
    "        # If in the last move it is our turn, the position will be evaluated as if we are white, since we are \n",
    "        # the maximizing player, this is the correct sign\n",
    "        return Engine.evaluate_position_from_board(position.board), 0\n",
    "    if depth == 0 and not maximize:\n",
    "        # If in the last move is the opponents turn, the position will be evaluated as if we are black, since\n",
    "        # we are the maximizing player, we change the sign\n",
    "        return -Engine.evaluate_position_from_board(position.board), 0 \n",
    "    \n",
    "    legal_moves = position.gen_moves()\n",
    "    best_move = None\n",
    "    \n",
    "    if maximize: # If we have to move, we want to maximize. This is ensured by the above\n",
    "        value = -10000 # This is the best evaluation for white in the child_values\n",
    "        for move in legal_moves:\n",
    "            position1 = position\n",
    "            child_value = alpha_beta_from_position(position1.move(move), depth - 1, alpha, beta, False)[0]\n",
    "            if child_value > value:\n",
    "                value = child_value\n",
    "                best_move = move\n",
    "            alpha = max(alpha, value)\n",
    "            if alpha >= beta:\n",
    "                break # Because if our best move is better than the best in another set of moves that lead from\n",
    "                      # a different move from opponent, then the opponent will choose the other move.\n",
    "                \n",
    "    else: # If opponent has to move\n",
    "        value = 10000\n",
    "        for move in legal_moves:\n",
    "            position1 = position\n",
    "            child_value = alpha_beta_from_position(position1.move(move), depth - 1, alpha, beta, True)[0]\n",
    "            if child_value < value:\n",
    "                value = child_value\n",
    "                best_move = move\n",
    "            beta = min(beta, value)\n",
    "            if alpha >= beta: # Because if our opponents best move is better (less than) than the best \n",
    "                break         # in another set of moves that lead from a different move from us, \n",
    "                              # then we will choose the other move.\n",
    "    \n",
    "    return value, best_move \n"
   ]
  },
  {
   "cell_type": "code",
   "execution_count": 11,
   "id": "9d2a3b46",
   "metadata": {},
   "outputs": [],
   "source": [
    "import numpy as np\n",
    "def engine_position(position, is_our_move, depth): \n",
    "    # alpha is the current best evaluation for white, it will start at -1000\n",
    "    # beta is the current best evaluation for black, it will start at +1000\n",
    "    start_time = time.time()\n",
    "    best_move = None\n",
    "    legal_moves = position.gen_moves()\n",
    "\n",
    "    if is_our_move:\n",
    "        alpha = -10000 # Current best evaluation for us\n",
    "        beta = 10000 # Current best evaluation for opponent\n",
    "        best_value = -10000\n",
    "        best_value, best_move = alpha_beta_from_position(position, depth, alpha, beta, True)\n",
    "        end_time = time.time()\n",
    "        elapsed_time = end_time - start_time\n",
    "        return [\"Time taken:\", elapsed_time, \"seconds\", \"Best move: \", best_move, \"Evaluation: \", best_value]\n",
    "    else: # Now we make the engine think while it isn't it's turn\n",
    "        Dict = {}\n",
    "        for move in legal_moves:\n",
    "            new_position = position.move(move)\n",
    "            best_move = None\n",
    "            Dict[move]=(engine_position(new_position, is_maximizing_player, is_our_move, depth+1)[4], \n",
    "                        engine_position(new_position, is_maximizing_player, is_our_move, depth+1)[6])\n",
    "        return(Dict) # This is a dictionary of the form {move: best response, evaluation}\n"
   ]
  },
  {
   "cell_type": "code",
   "execution_count": 12,
   "id": "492a59d3",
   "metadata": {},
   "outputs": [
    {
     "data": {
      "text/plain": [
       "['Time taken:',\n",
       " 0.05463695526123047,\n",
       " 'seconds',\n",
       " 'Best move: ',\n",
       " Move(i=2, j=11, prom='', score=0),\n",
       " 'Evaluation: ',\n",
       " 10000]"
      ]
     },
     "execution_count": 12,
     "metadata": {},
     "output_type": "execute_result"
    }
   ],
   "source": [
    "engine_position(fen_to_position('r2qkbnr/1bp2ppp/1pnp4/pB2p3/3PP3/2N2N2/PPP2PPP/R1BQ1RK1 w kq - 2 7'), True, 5)\n"
   ]
  },
  {
   "cell_type": "code",
   "execution_count": 13,
   "id": "d467f10f",
   "metadata": {},
   "outputs": [
    {
     "data": {
      "text/plain": [
       "['Time taken:',\n",
       " 0.0698859691619873,\n",
       " 'seconds',\n",
       " 'Best move: ',\n",
       " Move(i=1, j=11, prom='', score=0),\n",
       " 'Evaluation: ',\n",
       " 10000]"
      ]
     },
     "execution_count": 13,
     "metadata": {},
     "output_type": "execute_result"
    }
   ],
   "source": [
    "engine_position(fen_to_position('rnbqkbnr/pppppppp/8/8/8/8/PPPPPPPP/RNBQKBNR w KQkq - 0 1'), True, 6)"
   ]
  },
  {
   "cell_type": "markdown",
   "id": "9878e685",
   "metadata": {},
   "source": [
    "### Improving the Algorithms \n",
    "\n",
    "There are several ways to improve the alpha-beta algorithm for chess:\n",
    "\n",
    "* Iterative Deepening: This technique involves running the alpha-beta search multiple times with increasing depth limits. It allows the program to quickly find a good move at lower depths, and then continue searching deeper if there is time remaining.\n",
    "\n",
    "* Killer moves: This are moves stored during the search when iterative deepening. If a move creates a cutoff during one step of iterative deepening (running alphabeta on a fixed depth), then it is stored and on the next step of iterative deepening it will be tried the first move.\n",
    "\n",
    "* Transposition Tables: This technique involves storing previously computed evaluations in a hash table, so that the algorithm can avoid redundant evaluations. This can be particularly useful when searching the same position from different move orders.\n",
    "\n",
    "* Move Ordering: This technique involves ordering the moves so that the most promising moves are searched first. This can lead to pruning more branches and searching deeper in the remaining branches. **DONE WITH CAPTURES AND CEHCKS**\n",
    "\n",
    "* Quiescence Search: This technique involves extending the search depth for positions with captures and checks, as these are often critical in chess. This can help avoid the \"horizon effect\" where a position looks good at the current depth, but leads to a bad position in the next ply. **DONE**\n",
    "\n",
    "* Null Move Pruning: This technique involves temporarily passing the turn to the opponent and then evaluating the position. If the evaluation is significantly worse than the current best score, then the move leading to that position is unlikely to be good, and the algorithm can skip searching that move.\n",
    "\n",
    "* Futility Pruning: This technique involves pruning branches where the evaluation is already significantly worse than the current best score. This can reduce the search depth and speed up the algorithm."
   ]
  },
  {
   "cell_type": "code",
   "execution_count": 14,
   "id": "ffdb3c8e",
   "metadata": {},
   "outputs": [
    {
     "data": {
      "text/plain": [
       "'b1a2Q'"
      ]
     },
     "execution_count": 14,
     "metadata": {},
     "output_type": "execute_result"
    }
   ],
   "source": [
    "Engine.Engine.Tell_Move(Engine.Move(1,8,'Q',0))"
   ]
  },
  {
   "cell_type": "markdown",
   "id": "18ae627a",
   "metadata": {},
   "source": [
    "### Checkmates (The engine makes them all)"
   ]
  },
  {
   "cell_type": "code",
   "execution_count": 15,
   "id": "21d78a8f",
   "metadata": {},
   "outputs": [
    {
     "data": {
      "text/plain": [
       "['Time taken:',\n",
       " 0.051016807556152344,\n",
       " 'seconds',\n",
       " 'Best move: ',\n",
       " Move(i=18, j=2, prom='', score=3),\n",
       " 'Evaluation: ',\n",
       " 1003]"
      ]
     },
     "execution_count": 15,
     "metadata": {},
     "output_type": "execute_result"
    }
   ],
   "source": [
    "Engine.Engine.Search(fen_to_position('8/8/8/8/8/2R5/1R6/6k1 w - - 0 1'), True, 2)\n"
   ]
  },
  {
   "cell_type": "code",
   "execution_count": 16,
   "id": "060f794f",
   "metadata": {},
   "outputs": [
    {
     "name": "stdout",
     "output_type": "stream",
     "text": [
      "['Time taken:', 0.06203961372375488, 'seconds', 'Best move: ', Move(i=52, j=60, prom='', score=3), 'Evaluation: ', 1003]\n"
     ]
    }
   ],
   "source": [
    "print(Engine.Engine.Search(fen_to_position('6k1/4Rppp/8/8/8/8/5PPP/6K1 w - - 0 1'), True, 2))\n"
   ]
  },
  {
   "cell_type": "code",
   "execution_count": 17,
   "id": "f5bb07be",
   "metadata": {},
   "outputs": [
    {
     "name": "stdout",
     "output_type": "stream",
     "text": [
      "['Time taken:', 0.7406039237976074, 'seconds', 'Best move: ', Move(i=4, j=60, prom='', score=5), 'Evaluation: ', 1001]\n"
     ]
    }
   ],
   "source": [
    "print(Engine.Engine.Search(fen_to_position('2r1r1k1/5ppp/8/8/Q7/8/5PPP/4R1K1 w - - 0 1'), True, 4))\n"
   ]
  },
  {
   "cell_type": "code",
   "execution_count": 18,
   "id": "d1274a27",
   "metadata": {},
   "outputs": [
    {
     "name": "stdout",
     "output_type": "stream",
     "text": [
      "['Time taken:', 2.3451731204986572, 'seconds', 'Best move: ', Move(i=21, j=53, prom='', score=3), 'Evaluation: ', 1001]\n"
     ]
    }
   ],
   "source": [
    "print(Engine.Engine.Search(fen_to_position('6k1/3qb1pp/4p3/ppp1P3/8/2PP1Q2/PP4PP/5RK1 w - - 0 1'), True, 4))\n"
   ]
  },
  {
   "cell_type": "code",
   "execution_count": 19,
   "id": "d5841b2f",
   "metadata": {},
   "outputs": [
    {
     "name": "stdout",
     "output_type": "stream",
     "text": [
      "['Time taken:', 2.2818009853363037, 'seconds', 'Best move: ', Move(i=56, j=60, prom='', score=3), 'Evaluation: ', 1003]\n"
     ]
    }
   ],
   "source": [
    "print(Engine.Engine.Search(fen_to_position('R7/4kp2/5N2/4P3/8/8/8/6K1 w - - 0 1'), True, 4))\n"
   ]
  },
  {
   "cell_type": "code",
   "execution_count": 20,
   "id": "91682600",
   "metadata": {},
   "outputs": [
    {
     "name": "stdout",
     "output_type": "stream",
     "text": [
      "['Time taken:', 50.45259380340576, 'seconds', 'Best move: ', Move(i=52, j=54, prom='', score=3), 'Evaluation: ', 1001]\n"
     ]
    }
   ],
   "source": [
    "print(Engine.Engine.Search(fen_to_position('5r1b/2R1R3/P4r2/2p2Nkp/2b3pN/6P1/4PP2/6K1 w - - 0 1'), True, 4))\n"
   ]
  },
  {
   "cell_type": "markdown",
   "id": "b02d3984",
   "metadata": {},
   "source": [
    "### Some simple tactics (The engine makes the correct move, except for one)"
   ]
  },
  {
   "cell_type": "code",
   "execution_count": 21,
   "id": "2d8e53b4",
   "metadata": {},
   "outputs": [
    {
     "name": "stdout",
     "output_type": "stream",
     "text": [
      "♜..♛♚♝♞♜\n",
      ".♝♟..♟♟♟\n",
      ".♟♞♟....\n",
      "♟♗..♟...\n",
      "...♙♙...\n",
      "..♘..♘..\n",
      "♙♙♙..♙♙♙\n",
      "♖.♗♕.♖♔.\n",
      "['Time taken:', 25.169307947158813, 'seconds', 'Best move: ', Move(i=33, j=42, prom='', score=5), 'Evaluation: ', 600] Best move should be: 27, 35\n"
     ]
    }
   ],
   "source": [
    "pretty_print(fen_to_position('r2qkbnr/1bp2ppp/1pnp4/pB2p3/3PP3/2N2N2/PPP2PPP/R1BQ1RK1 w kq - 2 7').board)\n",
    "print(Engine.Engine.Search(fen_to_position('r2qkbnr/1bp2ppp/1pnp4/pB2p3/3PP3/2N2N2/PPP2PPP/R1BQ1RK1 w kq - 2 7'), True, 3), 'Best move should be: 27, 35')\n"
   ]
  },
  {
   "cell_type": "code",
   "execution_count": 22,
   "id": "23ec70e5",
   "metadata": {},
   "outputs": [
    {
     "name": "stdout",
     "output_type": "stream",
     "text": [
      ".♚♜..♝.♜\n",
      "♟♟♟..♟♟♟\n",
      "..♞..♞..\n",
      "...♟....\n",
      "...♙..♛♙\n",
      "..♘.♙.♙.\n",
      "♙♙♙..♙..\n",
      "♖.♗♔♕..♖\n",
      "[Move(i=3, j=11, prom='', score=0), Move(i=4, j=12, prom='', score=0), Move(i=13, j=21, prom='', score=0), Move(i=18, j=12, prom='', score=0)]\n",
      "[Move(i=3, j=11, prom='', score=0), Move(i=4, j=12, prom='', score=0), Move(i=13, j=21, prom='', score=0), Move(i=18, j=12, prom='', score=0)]\n"
     ]
    }
   ],
   "source": [
    "pretty_print(fen_to_position('1kr2b1r/ppp2ppp/2n2n2/3p4/3P2qP/2N1P1P1/PPP2P2/R1BKQ2R w KQk - 0 1').board)\n",
    "print(list(fen_to_position('1kr2b1r/ppp2ppp/2n2n2/3p4/3P2qP/2N1P1P1/PPP2P2/R1BKQ2R w KQk - 0 1').out_of_attack_moves()))\n",
    "print(list(fen_to_position('1kr2b1r/ppp2ppp/2n2n2/3p4/3P2qP/2N1P1P1/PPP2P2/R1BKQ2R w KQk - 0 1').ordered_moves()))\n"
   ]
  },
  {
   "cell_type": "code",
   "execution_count": 23,
   "id": "a30e445e",
   "metadata": {},
   "outputs": [
    {
     "name": "stdout",
     "output_type": "stream",
     "text": [
      ".♚......\n",
      "♟♟♟...♛.\n",
      "........\n",
      "....♜...\n",
      "........\n",
      "........\n",
      "...♗.♙♙♙\n",
      "♖....♕♔.\n",
      "['Time taken:', 131.82509589195251, 'seconds', 'Best move: ', Move(i=11, j=18, prom='', score=0), 'Evaluation: ', 400] Best move should be: 11, 18\n"
     ]
    }
   ],
   "source": [
    "pretty_print(fen_to_position('1k6/ppp3q1/8/4r3/8/8/3B1PPP/R4QK1 w - - 0 1').board)\n",
    "print(Engine.Engine.Search(fen_to_position('1k6/ppp3q1/8/4r3/8/8/3B1PPP/R4QK1 w - - 0 1'), True, 4), 'Best move should be: 11, 18')\n"
   ]
  },
  {
   "cell_type": "code",
   "execution_count": 24,
   "id": "36d64356",
   "metadata": {},
   "outputs": [
    {
     "name": "stdout",
     "output_type": "stream",
     "text": [
      "....♚...\n",
      "......♟.\n",
      ".....♟.♟\n",
      "....♞...\n",
      "........\n",
      ".......♙\n",
      ".....♙♙.\n",
      "....♖.♔.\n",
      "['Time taken:', 2.6971991062164307, 'seconds', 'Best move: ', Move(i=13, j=29, prom='', score=0), 'Evaluation: ', 400] Best move should be: 13, 29\n"
     ]
    }
   ],
   "source": [
    "pretty_print(fen_to_position('4k3/6p1/5p1p/4n3/8/7P/5PP1/4R1K1 w - - 0 1').board)\n",
    "print(Engine.Engine.Search(fen_to_position('4k3/6p1/5p1p/4n3/8/7P/5PP1/4R1K1 w - - 0 1'), True, 4), 'Best move should be: 13, 29')\n"
   ]
  },
  {
   "cell_type": "code",
   "execution_count": 25,
   "id": "49c21856",
   "metadata": {},
   "outputs": [
    {
     "name": "stdout",
     "output_type": "stream",
     "text": [
      "♜....♜♚.\n",
      "♟♟.♟.♟♟♟\n",
      ".♛♟..♞..\n",
      "........\n",
      "....♙...\n",
      ".♙.♙..♕.\n",
      "♙♗♙..♙♙♙\n",
      "♖....♖♔.\n",
      "['Time taken:', 56.54353308677673, 'seconds', 'Best move: ', Move(i=9, j=45, prom='', score=2), 'Evaluation: ', 400] Best move should be: 9, 45\n"
     ]
    }
   ],
   "source": [
    "pretty_print(fen_to_position('r4rk1/pp1p1ppp/1qp2n2/8/4P3/1P1P2Q1/PBP2PPP/R4RK1 w - - 0 1').board)\n",
    "print(Engine.Engine.Search(fen_to_position('r4rk1/pp1p1ppp/1qp2n2/8/4P3/1P1P2Q1/PBP2PPP/R4RK1 w - - 0 1'), True, 4), 'Best move should be: 9, 45')\n"
   ]
  },
  {
   "cell_type": "code",
   "execution_count": 26,
   "id": "cbb5a048",
   "metadata": {},
   "outputs": [
    {
     "name": "stdout",
     "output_type": "stream",
     "text": [
      "..♚..♝♞♜\n",
      "♟♟..♟♟.♟\n",
      "......♟.\n",
      ".....♞..\n",
      "........\n",
      ".......♗\n",
      ".♙♙.♙.♙♙\n",
      "..♗.♔.♘♖\n",
      "['Time taken:', 0.39755725860595703, 'seconds', 'Best move: ', Move(i=12, j=28, prom='', score=0), 'Evaluation: ', 200] Best move should be: 12, 28\n"
     ]
    }
   ],
   "source": [
    "pretty_print(fen_to_position('2k2bnr/pp2pp1p/6p1/5n2/8/7B/1PP1P1PP/2B1K1NR w Kk - 0 1').board)\n",
    "print(Engine.Engine.Search(fen_to_position('2k2bnr/pp2pp1p/6p1/5n2/8/7B/1PP1P1PP/2B1K1NR w Kk - 0 1'), True, 2), 'Best move should be: 12, 28')\n"
   ]
  },
  {
   "cell_type": "markdown",
   "id": "8bade0cc",
   "metadata": {},
   "source": [
    "### A game\n"
   ]
  },
  {
   "cell_type": "markdown",
   "id": "99fb5fc4",
   "metadata": {},
   "source": [
    "Now I'm going to create a function that using the position encoder, also gets the history matrices and repetition matrices."
   ]
  },
  {
   "cell_type": "code",
   "execution_count": 27,
   "id": "ee632f59",
   "metadata": {},
   "outputs": [],
   "source": [
    "def max_string_count(str_list):\n",
    "    counts = {}\n",
    "    for s in str_list:\n",
    "        if s in counts:\n",
    "            counts[s] += 1\n",
    "        else:\n",
    "            counts[s] = 1\n",
    "    return max(counts.values())\n",
    "# I HAVE CHECKED THAT THIS ONE IS RUNNING CORRECTLY"
   ]
  },
  {
   "cell_type": "code",
   "execution_count": 28,
   "id": "09e2e4e7",
   "metadata": {},
   "outputs": [],
   "source": [
    "def game_encoder(pgn):\n",
    "    hist_1 = [] #most recent position\n",
    "    hist_2 = []\n",
    "    hist_3 = []\n",
    "    hist_4 = []\n",
    "    hist_5 = []\n",
    "    hist_6 = [] #6th most recent position\n",
    "    for i in range(len(encode_position('rnbqkbnr/pppppppp/8/8/8/1P6/P1PPPPPP/RNBQKBNR b KQkq - 0 1'))):\n",
    "        hist_1.append(np.zeros((8,8)))\n",
    "        hist_2.append(np.zeros((8,8)))\n",
    "        hist_3.append(np.zeros((8,8)))\n",
    "        hist_4.append(np.zeros((8,8)))\n",
    "        hist_5.append(np.zeros((8,8)))\n",
    "        hist_6.append(np.zeros((8,8)))\n",
    "    histories = [hist_1, hist_2, hist_3, hist_4, hist_5, hist_6]\n",
    "    Fens = pgn_to_fenslist(pgn)\n",
    "    for fen in Fens:\n",
    "        histories[5] = histories[4]\n",
    "        histories[4] = histories[3]\n",
    "        histories[3] = histories[2]\n",
    "        histories[2] = histories[1]\n",
    "        histories[1] = histories[0]\n",
    "        histories[0] = encode_position(fen)\n",
    "    matrices_position = encode_position(Fens[-1])\n",
    "    r = max_string_count(Fens)-1\n",
    "    if r == 0:\n",
    "        R_1 = np.zeros((8,8))\n",
    "        R_2 = np.zeros((8,8))\n",
    "    if r == 1:\n",
    "        R_1 = np.ones((8,8))\n",
    "        R_2 = np.zeros((8,8))\n",
    "    else:\n",
    "        R_1 = np.zeros((8,8))\n",
    "        R_2 = np.ones((8,8))\n",
    "    klk = [matrices_position, R_1, R_2, hist_1, hist_2, hist_3, hist_4, hist_5, hist_6]\n",
    "    flat_list = [item for sublist in klk for item in sublist]\n",
    "    return flat_list"
   ]
  }
 ],
 "metadata": {
  "kernelspec": {
   "display_name": "Python 3 (ipykernel)",
   "language": "python",
   "name": "python3"
  },
  "language_info": {
   "codemirror_mode": {
    "name": "ipython",
    "version": 3
   },
   "file_extension": ".py",
   "mimetype": "text/x-python",
   "name": "python",
   "nbconvert_exporter": "python",
   "pygments_lexer": "ipython3",
   "version": "3.10.9"
  }
 },
 "nbformat": 4,
 "nbformat_minor": 5
}
